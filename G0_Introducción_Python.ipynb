{
  "nbformat": 4,
  "nbformat_minor": 0,
  "metadata": {
    "colab": {
      "provenance": [],
      "toc_visible": true,
      "include_colab_link": true
    },
    "kernelspec": {
      "name": "python3",
      "display_name": "Python 3"
    },
    "language_info": {
      "name": "python"
    }
  },
  "cells": [
    {
      "cell_type": "markdown",
      "metadata": {
        "id": "view-in-github",
        "colab_type": "text"
      },
      "source": [
        "<a href=\"https://colab.research.google.com/github/SolidusStrange/Matematica-Aplicada/blob/main/G0_Introducci%C3%B3n_Python.ipynb\" target=\"_parent\"><img src=\"https://colab.research.google.com/assets/colab-badge.svg\" alt=\"Open In Colab\"/></a>"
      ]
    },
    {
      "cell_type": "markdown",
      "source": [
        "# Problema 1"
      ],
      "metadata": {
        "id": "t48ZzDLtux0T"
      }
    },
    {
      "cell_type": "markdown",
      "source": [
        "Escribe un código que pida al usuario ingresar un número real y determine si el número ingresado es positivo, negativo o cero."
      ],
      "metadata": {
        "id": "cWCfLm-fvNTx"
      }
    },
    {
      "cell_type": "code",
      "source": [
        "num = int(input(\"Ingresa un número: \"))\n",
        "if numero>0:\n",
        "  print(\"El número es positivo\")\n",
        "elif numero<0:\n",
        "  print(\"El número es negativo\")\n",
        "else:\n",
        "  print(\"El número es 0\")"
      ],
      "metadata": {
        "id": "3QXLhyxGA7h3"
      },
      "execution_count": null,
      "outputs": []
    },
    {
      "cell_type": "markdown",
      "source": [
        "# Problema 2"
      ],
      "metadata": {
        "id": "6civkm_Pwf1B"
      }
    },
    {
      "cell_type": "markdown",
      "source": [
        "Escribe un código que pida al usuario ingresar un número entero y que determine si el número ingresado es par o impar.\n"
      ],
      "metadata": {
        "id": "rjeAxtJ4x9h6"
      }
    },
    {
      "cell_type": "code",
      "source": [
        "num = int(input(\"Ingresa un número: \"))\n",
        "if num % 2 == 0:\n",
        "  print(f\"El número {num} es par\")\n",
        "else:\n",
        "  print(f\"El número {num} es impar\")"
      ],
      "metadata": {
        "colab": {
          "base_uri": "https://localhost:8080/"
        },
        "id": "FSwwLgFnA7zX",
        "outputId": "02eca91a-ef6d-404d-979e-b6e2a16e62b7"
      },
      "execution_count": null,
      "outputs": [
        {
          "output_type": "stream",
          "name": "stdout",
          "text": [
            "Ingresa un número: 5\n",
            "El número 5 es impar\n"
          ]
        }
      ]
    },
    {
      "cell_type": "markdown",
      "source": [
        "# Problema 3"
      ],
      "metadata": {
        "id": "rLA34mTgxuSf"
      }
    },
    {
      "cell_type": "markdown",
      "source": [
        "Escribe un código que, mediante un ciclo *while*, sume los primeros $100$ números naturales."
      ],
      "metadata": {
        "id": "6E3zFuZSwigv"
      }
    },
    {
      "cell_type": "code",
      "source": [
        "suma = 0\n",
        "contador = 1\n",
        "while contador<101:\n",
        "  suma += contador\n",
        "  contador += 1\n",
        "\n",
        "print(suma)"
      ],
      "metadata": {
        "colab": {
          "base_uri": "https://localhost:8080/"
        },
        "id": "kvc4sFGPA8KM",
        "outputId": "3f7fb16a-0085-4a27-95ae-d7e5307a9320"
      },
      "execution_count": null,
      "outputs": [
        {
          "output_type": "stream",
          "name": "stdout",
          "text": [
            "5050\n"
          ]
        }
      ]
    },
    {
      "cell_type": "markdown",
      "source": [
        "# Problema 4"
      ],
      "metadata": {
        "id": "pZpuARSKz4zw"
      }
    },
    {
      "cell_type": "markdown",
      "source": [
        "Escribe un código que almacene en una variable el *string* \"Contraseña\". Luego, el programa debe solicitar al usuario \"Introducir contraseña\", hasta que la palabra ingresada sea correcta. <sup><a href=\"#footnote1\" id=\"ref1\">1</a></sup>\n",
        "\n",
        "\n",
        "<p id=\"footnote1\"><sup>1</sup> String: Tipo de dato que almacena texto."
      ],
      "metadata": {
        "id": "SxGOLjlnz6y_"
      }
    },
    {
      "cell_type": "code",
      "source": [
        "password = \"perro\"\n",
        "passwd = \"\"\n",
        "\n",
        "while passwd != password:\n",
        "    passwd = input(\"Ingrese la contraseña: \")\n",
        "    if passwd != password:\n",
        "        print(\"Contraseña inválida\")"
      ],
      "metadata": {
        "colab": {
          "base_uri": "https://localhost:8080/"
        },
        "id": "eZqV6DVWA8q4",
        "outputId": "53fdb6f7-396c-414a-ba46-723efad4e40f"
      },
      "execution_count": null,
      "outputs": [
        {
          "output_type": "stream",
          "name": "stdout",
          "text": [
            "Ingrese la contraseñaasd\n",
            "Contraseña inválida\n",
            "Ingrese la contraseñaasd\n",
            "Contraseña inválida\n",
            "Ingrese la contraseñaasdasd\n",
            "Contraseña inválida\n",
            "Ingrese la contraseñaperro\n",
            "Contraseña inválida\n"
          ]
        }
      ]
    },
    {
      "cell_type": "markdown",
      "source": [
        "# Problema 5"
      ],
      "metadata": {
        "id": "bXAO6t1V1psK"
      }
    },
    {
      "cell_type": "markdown",
      "source": [
        "Escribe un código que, utilizando un ciclo *for*, pida al usuario ingresar un número entero y muestre la tabla de multiplicar desde el 1 al 12 de dicho número."
      ],
      "metadata": {
        "id": "nXwlwVHI11wC"
      }
    },
    {
      "cell_type": "code",
      "source": [
        "num = int(input(\"Ingrese un número entero: \"))\n",
        "for i in range(1, 13):\n",
        "  mult = i * num\n",
        "  print(mult)\n",
        "\n"
      ],
      "metadata": {
        "colab": {
          "base_uri": "https://localhost:8080/"
        },
        "id": "A4UTSFIFMKAO",
        "outputId": "c217b1d2-22cf-46c9-8394-328f0e81f412"
      },
      "execution_count": null,
      "outputs": [
        {
          "output_type": "stream",
          "name": "stdout",
          "text": [
            "Ingrese un número entero: 5\n",
            "5\n",
            "10\n",
            "15\n",
            "20\n",
            "25\n",
            "30\n",
            "35\n",
            "40\n",
            "45\n",
            "50\n",
            "55\n",
            "60\n"
          ]
        }
      ]
    },
    {
      "cell_type": "markdown",
      "source": [
        "# Problema 6"
      ],
      "metadata": {
        "id": "UroIuMyFCKax"
      }
    },
    {
      "cell_type": "markdown",
      "source": [
        "1. Escribe una función que reciba dos números y retorne el producto de los números recibidos.\n",
        "1. Escribe una nueva función que tome el producto calculado en el ítem anterior y redondee el valor al entero.\n",
        "1. Pide al usuario que ingrese dos números, y utiliza ambas funciones para imprimir el valor de la multiplicación redondeado al entero."
      ],
      "metadata": {
        "id": "VoiJyh0zCMzX"
      }
    },
    {
      "cell_type": "code",
      "source": [
        "def producto(a, b):\n",
        "  mult = a * b\n",
        "  return redondear(mult)\n",
        "\n",
        "def redondear(valor):\n",
        "  rounded = round(valor)\n",
        "  return rounded\n",
        "\n",
        "print(producto(5, 6))\n",
        "\n",
        "\n",
        "\n",
        "\n",
        "\n",
        "\n"
      ],
      "metadata": {
        "colab": {
          "base_uri": "https://localhost:8080/"
        },
        "id": "W_wzmgLLMKbn",
        "outputId": "e989c003-68c6-43aa-e01b-09365315cb4a"
      },
      "execution_count": null,
      "outputs": [
        {
          "output_type": "stream",
          "name": "stdout",
          "text": [
            "30\n"
          ]
        }
      ]
    },
    {
      "cell_type": "markdown",
      "source": [
        "# Problema 7"
      ],
      "metadata": {
        "id": "GHMOEBgQDvUw"
      }
    },
    {
      "cell_type": "markdown",
      "source": [
        "La fórmula que permite convertir los grados Celsius a Fahrenheit es la siguiente:\n",
        "\n",
        "$$ F = \\frac{9}{5} C + 32$$\n",
        "\n",
        "1. Crea una función que permita realizar esta conversión.\n",
        "1. Luego, pide al usuario que ingrese la temperatura en grados Celsius y utiliza la función para calcular su equivalente en grados Fahrenheit.\n",
        "1. Imprime el resultado redondeado a la centésima."
      ],
      "metadata": {
        "id": "I77oq5plD50H"
      }
    },
    {
      "cell_type": "code",
      "source": [
        "def celsius_to_farenheit(temp):\n",
        "  farenheit = ((9*temp)/5) + 32\n",
        "  return round(farenheit,2)\n",
        "\n",
        "temp = float(input(\"Ingrese la temperatura en Celsius\"))\n",
        "print(celsius_to_farenheit(temp))\n",
        "\n"
      ],
      "metadata": {
        "colab": {
          "base_uri": "https://localhost:8080/"
        },
        "id": "j0O1YVaouijU",
        "outputId": "9df4eab6-ce42-4754-bd3a-58828be83a86"
      },
      "execution_count": null,
      "outputs": [
        {
          "output_type": "stream",
          "name": "stdout",
          "text": [
            "Ingrese la temperatura en Celsius8\n",
            "46.4\n"
          ]
        }
      ]
    },
    {
      "cell_type": "markdown",
      "source": [
        "# Problema 8"
      ],
      "metadata": {
        "id": "yC4Sju1KGQFn"
      }
    },
    {
      "cell_type": "markdown",
      "source": [
        "1. Escribe un código que importe el módulo *random* y utiliza la función *randint()* para generar diez números aleatorios entre $1$ y $100$, y almacénalos en una lista.\n",
        "1. Imprime en pantalla la lista con los diez números generados.\n",
        "1. Utiliza la indexación en *Python* para acceder al segundo y sexto elemento de la lista. Ten en cuenta que en *Python* los índices comienzan en $0$. ¿Cómo imprimirías estos elementos?"
      ],
      "metadata": {
        "id": "Qw6j4zbSG0NH"
      }
    },
    {
      "cell_type": "code",
      "source": [
        "import random\n",
        "\n",
        "numero = []\n",
        "\n",
        "for i in range(1, 11):\n",
        "  num = random.randint(1, 100)\n",
        "  numero.append(num)\n",
        "\n",
        "print(numero)\n",
        "\n",
        "print(numero[1])\n",
        "print(numero[5])\n",
        "\n"
      ],
      "metadata": {
        "colab": {
          "base_uri": "https://localhost:8080/"
        },
        "id": "5Em0vdiEujQl",
        "outputId": "e910b496-ced9-4ddc-cc52-9b9220d954f1"
      },
      "execution_count": null,
      "outputs": [
        {
          "output_type": "stream",
          "name": "stdout",
          "text": [
            "[21, 52, 60, 74, 91, 17, 75, 16, 12, 62]\n",
            "52\n",
            "17\n"
          ]
        }
      ]
    },
    {
      "cell_type": "markdown",
      "source": [
        "# Problema 9"
      ],
      "metadata": {
        "id": "qlwdqEfzHrL_"
      }
    },
    {
      "cell_type": "markdown",
      "source": [
        "El Índice de Masa Corporal (IMC) es una medida que se utiliza para evaluar si una persona se encuentra en un peso saludable con respecto a su estatura. La fórmula para calcular esta medida es:\n",
        "\n",
        "<br>\n",
        "\n",
        "$$ \\textrm{IMC} = \\frac{\\textrm{peso} \\ \\ (\\textrm{kg})}{(\\textrm{altura} \\ \\ (\\textrm{m}))^{2}}$$\n",
        "\n",
        "<br>\n",
        "\n",
        "El valor obtenido con el IMC, de acuerdo con la Organización Mundial de la Salud (OMS) indica si la persona tiene un peso bajo, normal, sobrepeso u obesidad. La clasificación es la siguiente:\n",
        "\n",
        "<br>\n",
        "\n",
        "* Bajo peso: IMC menor a $18,5 \\ \\  \\textrm{kg/m}^{2}$\n",
        "* Peso normal: IMC entre $18,5 \\ \\ \\textrm{kg/m}^{2}$ y $24,9 \\ \\ \\textrm{kg/m}^{2}$\n",
        "* Sobrepeso: IMC entre $25 \\ \\ \\textrm{kg/m}^{2}$ y $29,9 \\ \\ \\textrm{kg/m}^{2}$\n",
        "* Obesidad: IMC de $30 \\ \\ \\textrm{kg/m}^{2}$ o mayor\n",
        "\n",
        "<br>\n",
        "\n",
        "Aunque el IMC es una forma eficaz de evaluar el peso, no tiene en cuenta factores como la distribución de grasa, la masa muscular y otros rasgos de la salud física.\n",
        "\n",
        "<br>\n",
        "\n",
        "1. Considerando la información entregada, implementa un código que permita calcular mediante una función, el valor del IMC de una persona. Luego, solicita al usuario valores de masa y altura e indica, mediante el uso de condicionales, la categoría de la persona según el IMC calculado.\n",
        "1. Considera la siguiente tabla de valores, que muestra el peso y el IMC de once estudiantes. Guarda los valores del IMC en una lista e imprime en pantalla los estudiantes que, según el criterio de la OMS, están en **bajo peso**. Además, para cada IMC que esté en bajo peso, índica también el índice en la lista donde se encuentra.\n",
        "\n",
        "<p><center>\n",
        "\n",
        "| N°      | Peso $(\\textrm{kg})$ | IMC $(\\textrm{kg/m}^{2})$|\n",
        "|---------|----------------------|--------------------------|\n",
        "|$$ 1 $$  | $$29,5 $$            | $$16,43$$                |\n",
        "|$$ 2 $$  | $$37,3 $$            | $$19,31$$                |\n",
        "|$$ 3 $$  | $$38   $$            | $$10,25$$                |\n",
        "|$$ 4 $$  | $$31   $$            | $$18,63$$                |\n",
        "|$$ 5 $$  | $$36   $$            | $$17,85$$                |\n",
        "|$$ 6 $$  | $$40,4 $$            | $$19,76$$                |\n",
        "|$$ 7 $$  | $$47   $$            | $$23,64$$                |\n",
        "|$$ 8 $$  | $$43   $$            | $$21,94$$                |\n",
        "|$$ 9 $$  | $$36   $$            | $$21,3 $$                |\n",
        "|$$ 10$$  | $$40,1 $$            | $$22,67$$                |\n",
        "|$$ 11$$  | $$27   $$            | $$16,48$$                |\n",
        "\n",
        "</center></p>\n",
        "\n"
      ],
      "metadata": {
        "id": "iqH0iITmJH-P"
      }
    },
    {
      "cell_type": "code",
      "source": [
        "def calculo_imc(peso, altura):\n",
        "  imc = peso/altura**2\n",
        "  return round(imc,2)\n",
        "\n",
        "def tabla_imc(imc):\n",
        "  if imc < 18.5:\n",
        "    print(f\"{imc} - Bajo peso\")\n",
        "  elif imc < 24.9:\n",
        "    print(f\"{imc} - Peso normal\")\n",
        "  elif imc < 29.9:\n",
        "    print(f\"{imc} - Sobrepeso\")\n",
        "  else:\n",
        "    print(f\"{imc} - Obesidad\")\n",
        "\n",
        "#NUMERO UNO\n",
        "\n",
        "peso = float(input(\"Ingrese su peso: \"))\n",
        "altura = float(input(\"Ingrese su altura: \"))\n",
        "\n",
        "tabla_imc(calculo_imc(peso, altura))\n",
        "\n",
        "#NUMERO DOS\n",
        "    #PESO, IMC\n",
        "datos = [\n",
        "    [29.5, 16.43],\n",
        "    [37.3, 19.31],\n",
        "    [38.0, 10.25],\n",
        "    [31.0, 18.63],\n",
        "    [36.0, 17.85],\n",
        "    [40.4, 19.76],\n",
        "    [47.0, 23.64],\n",
        "    [43.0, 21.94],\n",
        "    [36.0, 21.30],\n",
        "    [40.1, 22.67],\n",
        "    [27.0, 16.48]\n",
        "        ]\n",
        "\n",
        "for i in range(len(datos)):\n",
        "  peso = datos[i][0]\n",
        "  imc = datos[i][1]\n",
        "  altura = (peso/imc)**0.5\n",
        "\n",
        "  if imc<18.5:\n",
        "    print(f\"{i+1}. Está con bajo peso con un IMC de: {imc}\")\n",
        "\n"
      ],
      "metadata": {
        "id": "Unws2pfCuw6-",
        "colab": {
          "base_uri": "https://localhost:8080/"
        },
        "outputId": "b8c11385-4bf5-41d7-ce44-52247b26f232"
      },
      "execution_count": 10,
      "outputs": [
        {
          "output_type": "stream",
          "name": "stdout",
          "text": [
            "Ingrese su peso: 96\n",
            "Ingrese su altura: 1.87\n",
            "27.45 - Sobrepeso\n",
            "1. Está con bajo peso con un IMC de: 16.43\n",
            "3. Está con bajo peso con un IMC de: 10.25\n",
            "5. Está con bajo peso con un IMC de: 17.85\n",
            "11. Está con bajo peso con un IMC de: 16.48\n"
          ]
        }
      ]
    }
  ]
}