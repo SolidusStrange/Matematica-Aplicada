{
  "nbformat": 4,
  "nbformat_minor": 0,
  "metadata": {
    "colab": {
      "provenance": [],
      "include_colab_link": true
    },
    "kernelspec": {
      "name": "python3",
      "display_name": "Python 3"
    },
    "language_info": {
      "name": "python"
    }
  },
  "cells": [
    {
      "cell_type": "markdown",
      "metadata": {
        "id": "view-in-github",
        "colab_type": "text"
      },
      "source": [
        "<a href=\"https://colab.research.google.com/github/SolidusStrange/Matematica-Aplicada/blob/main/G4_Sucesiones.ipynb\" target=\"_parent\"><img src=\"https://colab.research.google.com/assets/colab-badge.svg\" alt=\"Open In Colab\"/></a>"
      ]
    },
    {
      "cell_type": "markdown",
      "source": [
        "# Problema 1"
      ],
      "metadata": {
        "id": "Jsg7AmugfdN3"
      }
    },
    {
      "cell_type": "markdown",
      "source": [
        "Considere la sucesión $a_{n} = 3n^{2} + 7$. Por medio de un código en *Python* despliega en pantalla:\n",
        "\n",
        "1. Los primeros $5$ términos.\n",
        "2. Los $5$ términos que vienen inmediatamente después del decimoquinto término."
      ],
      "metadata": {
        "id": "_IzpNklvfgKe"
      }
    },
    {
      "cell_type": "code",
      "source": [
        "# Forma profe\n",
        "#pregunta 1\n",
        "a=[]\n",
        "\n",
        "for i in range(5):\n",
        "  n=i+1\n",
        "  a.append(3*n**2+7)\n",
        "print(a)\n",
        "\n",
        "#pregunta 2\n",
        "b=[]\n",
        "for i in range(15,20):\n",
        "  n=i+1\n",
        "  b.append(3*n**2+7)\n",
        "print(b)\n",
        "\n",
        "print(\"-\"*30)\n",
        "# Forma mia\n",
        "\n",
        "def a(n): # Se define la función indicada\n",
        "  return 3*n**2 + 7 # Usamos la sucesión que nos dan\n",
        "\n",
        "# 1) Los primeros 5 términos\n",
        "lista = [] # Creamos una lista vacia para almacenar los numeros\n",
        "for n in range(1, 6): # n es la variable temporal que asume los numeros dentro del rango [1,6]. range(inicio, fin). donde el inicio es 1, porque por defecto es 0 y donde el fin del rango siempre es -1 en programación, por eso es 6\n",
        "  lista.append(a(n)) # La función .append() nos sirve para agregar un numero al final de la lista\n",
        "\n",
        "print(lista) # Mostramos la lista en pantalla\n",
        "\n",
        "# 2) Los 5 términos después del decimoquinto\n",
        "lista = [] # nueva lista\n",
        "for n in range(16, 21): # despues del decimoquinto viene el 16 hasta 5 veces más seria 21\n",
        "  lista.append(a(n)) # Le añadimos a la lista la funcion a(n)\n",
        "\n",
        "print(lista)\n"
      ],
      "metadata": {
        "colab": {
          "base_uri": "https://localhost:8080/"
        },
        "id": "im-_s5b8YApa",
        "outputId": "ec9dbbba-ce0e-4b3e-b421-26ba513f4a6d"
      },
      "execution_count": null,
      "outputs": [
        {
          "output_type": "stream",
          "name": "stdout",
          "text": [
            "[10, 19, 34, 55, 82]\n",
            "[775, 874, 979, 1090, 1207]\n",
            "------------------------------\n",
            "[10, 19, 34, 55, 82]\n",
            "[775, 874, 979, 1090, 1207]\n"
          ]
        }
      ]
    },
    {
      "cell_type": "markdown",
      "source": [
        "# Problema 2"
      ],
      "metadata": {
        "id": "MpHLoYWfk97E"
      }
    },
    {
      "cell_type": "markdown",
      "source": [
        "Considere la sucesión $g_{n} = 5n^{3}$. Implemente un código en *Python* que muestre en pantalla:\n",
        "\n",
        "1. Los primeros $4$ términos de la sucesión.\n",
        "2. Los $4$ términos que vienen inmediatamente después del octavo término.\n",
        "3. Determinar si el término $40.000$ pertenece a la sucesión. Si es así, indicar en qué posición se encuentra."
      ],
      "metadata": {
        "id": "TdrPqS7Mk_l0"
      }
    },
    {
      "cell_type": "code",
      "source": [
        "# Forma profesora\n",
        "#pregunta 1\n",
        "c=[]\n",
        "for i in range(4):\n",
        "  n=i+1\n",
        "  c.append(5*n**3)\n",
        "print(c)\n",
        "\n",
        "#pregunta 2\n",
        "d=[]\n",
        "for i in range(8,12):\n",
        "  n=i+1\n",
        "  d.append(5*n**3)\n",
        "print(d)\n",
        "\n",
        "#pregunta 3\n",
        "e=[]\n",
        "for i in range(1000):\n",
        "  n=i+1\n",
        "  e.append(5*n**3)\n",
        "pos=e.index(40000)\n",
        "print(f\"El número está en la posición {pos+1}\")\n",
        "\n",
        "print(\"-\"*30)\n",
        "# Forma mia\n",
        "def g(n):\n",
        "  return 5*n**3\n",
        "\n",
        "# 1) Los primeros 4 términos de la sucesión\n",
        "lista = []\n",
        "for n in range(1, 5):\n",
        "  lista.append(g(n))\n",
        "\n",
        "print(lista)\n",
        "\n",
        "# 2) Los 4 términos que vienen inmediatamente después del octavo\n",
        "lista = []\n",
        "for n in range(9, 13):\n",
        "  lista.append(g(n))\n",
        "\n",
        "print(lista)\n",
        "\n",
        "# 3) Determinar si el término  40.000  pertenece a la sucesión. Si es así, indicar en qué posición se encuentra.\n",
        "lista = []\n",
        "numero = 40000\n",
        "\n",
        "for n in range(100): # Un rango amplio para que pueda tener el 40000\n",
        "  lista.append(g(n))\n",
        "\n",
        "if numero in lista: # if (valor buscado) in (lista que armamos): donde in nos sirve para buscar ese valor dentro de la lista\n",
        "  print(f\"El número {numero} está en la posicion {lista.index(numero)}\") # Si lo encuentra devuelve la posición con index\n",
        "else:\n",
        "  print(f\"El número {numero} no está en la lista\")"
      ],
      "metadata": {
        "colab": {
          "base_uri": "https://localhost:8080/"
        },
        "id": "Q_0n2wERakej",
        "outputId": "7ea3cf28-9614-4ad9-9632-3a084e4e4d81"
      },
      "execution_count": null,
      "outputs": [
        {
          "output_type": "stream",
          "name": "stdout",
          "text": [
            "[5, 40, 135, 320]\n",
            "[3645, 5000, 6655, 8640]\n",
            "El número está en la posición 20\n",
            "------------------------------\n",
            "[5, 40, 135, 320]\n",
            "[3645, 5000, 6655, 8640]\n",
            "El número 40000 está en la posicion 20\n"
          ]
        }
      ]
    },
    {
      "cell_type": "markdown",
      "source": [
        "# Problema 3"
      ],
      "metadata": {
        "id": "7GDU-KDLuR7i"
      }
    },
    {
      "cell_type": "markdown",
      "source": [
        "La sucesión de Fibonacci es una serie de números en la que cada número, desde el tercero en adelante, es la suma de los dos anteriores. Comienza con el $0$ y $1$, tal como se observa a continuación:\n",
        "\n",
        "$$0, 1, 1, 2, 3, 5, 8, 13, ...$$\n",
        "\n",
        "Formalmente, la sucesión se define de la siguiente manera:\n",
        "\n",
        "\\begin{split}\n",
        "F(0) &= 0\\\\\n",
        "F(1) &= 1\\\\\n",
        "F(n) &= F(n - 1) + F(n - 2), \\ \\text{ para $n \\geq 2$}\n",
        "\\end{split}\n",
        "\n",
        "Esta sucesión se utiliza en una variedad de contextos en informática y algoritmos debido a sus propiedades matemáticas y patrones.\n",
        "\n",
        "1. Implementa un código en *Python* que muestre en pantalla los primeros $20$ términos de la sucesión.\n",
        "2. Calcula, utilizando un ciclo *for*, la suma de los primeros $30$ términos de la sucesión de Fibonacci."
      ],
      "metadata": {
        "id": "GG1duXd1uU6Z"
      }
    },
    {
      "cell_type": "code",
      "source": [
        "# Primeros 20 terminos de la sucesión\n",
        "lista = []\n",
        "\n",
        "def fibo(n):\n",
        "  if n==0:\n",
        "    return 0\n",
        "  elif n==1:\n",
        "    return 1\n",
        "  elif n>=2:\n",
        "    return fibo(n - 1) + fibo(n - 2)\n",
        "\n",
        "for n in range(20):\n",
        "  lista.append(fibo(n))\n",
        "\n",
        "print(lista)"
      ],
      "metadata": {
        "colab": {
          "base_uri": "https://localhost:8080/"
        },
        "id": "tPrvVd2W9Fhk",
        "outputId": "f3e8d61e-1786-4e34-d399-990012a15e41"
      },
      "execution_count": null,
      "outputs": [
        {
          "output_type": "stream",
          "name": "stdout",
          "text": [
            "[0, 1, 1, 2, 3, 5, 8, 13, 21, 34, 55, 89, 144, 233, 377, 610, 987, 1597, 2584, 4181]\n"
          ]
        }
      ]
    },
    {
      "cell_type": "code",
      "source": [
        "# Primeros 30 terminos de la sucesión\n",
        "lista = []\n",
        "\n",
        "def fibo(n):\n",
        "  if n==0:\n",
        "    return 0\n",
        "  elif n==1:\n",
        "    return 1\n",
        "  elif n>=2:\n",
        "    return fibo(n - 1) + fibo(n - 2)\n",
        "\n",
        "for n in range(30):\n",
        "  lista.append(fibo(n))\n",
        "\n",
        "print(sum(lista))"
      ],
      "metadata": {
        "colab": {
          "base_uri": "https://localhost:8080/"
        },
        "id": "R0X19vQ69F2H",
        "outputId": "de4f2558-c453-4ff3-d82b-a567e863f46d"
      },
      "execution_count": null,
      "outputs": [
        {
          "output_type": "stream",
          "name": "stdout",
          "text": [
            "1346268\n"
          ]
        }
      ]
    },
    {
      "cell_type": "markdown",
      "source": [
        "# Problema 4"
      ],
      "metadata": {
        "id": "OFL3b7nt8Rq_"
      }
    },
    {
      "cell_type": "markdown",
      "source": [
        "Implementa un código que permita guardar en una lista la sucesión de los primeros $n$ números pares, con $n \\geq 1$. Luego, determina:\n",
        "\n",
        "1. ¿Cuál es el valor del décimo término?\n",
        "2. Calcula, utilizando un ciclo *for*, la suma de los primeros $100$ números pares.\n",
        "3. ¿En qué posición se encuentra el número $58$ dentro de la sucesión?"
      ],
      "metadata": {
        "id": "j5QlZQwJSDsZ"
      }
    },
    {
      "cell_type": "code",
      "source": [
        "# Forma profe\n",
        "# Pregunta 1\n",
        "a=[]\n",
        "for i in range(100):\n",
        "  n=i+1\n",
        "  a.append(2*n)\n",
        "print(a[10-1])\n",
        "\n",
        "# Pregunta 2\n",
        "total=sum(a)\n",
        "print(f\"La suma de los primeros 100 términos es {total}\")\n",
        "\n",
        "# Pregunta 3\n",
        "posi=a.index(58)\n",
        "print(f\"Está en la posición {posi+1}\")\n",
        "\n",
        "print(\"-\"*30)\n",
        "# Forma mia\n",
        "# 1) Cual es el valor del décimo término?\n",
        "lista = []\n",
        "for n in range(100):\n",
        "  if n%2 == 0: # Si al dividir en 2 sobra 0, es un par, por eso usamos módulo\n",
        "    lista.append(n) # Agregamos el par a la lista\n",
        "\n",
        "print(lista[10])\n",
        "\n",
        "# 2) Calcula, utilizando un ciclo for, la suma de los primeros  100  números pares\n",
        "lista = []\n",
        "for n in range(2, 300): # Desde el [2, 4, 6...]\n",
        "  if n%2 == 0:\n",
        "    lista.append(n)\n",
        "    if len(lista) == 100: # Cuando la lista tenga 100 pares, para\n",
        "      break\n",
        "\n",
        "print(sum(lista)) # Se imprime la suma\n",
        "\n",
        "# 3) ¿En qué posición se encuentra el número  58  dentro de la sucesión?\n",
        "lista = []\n",
        "for n in range(2, 300):\n",
        "  if n%2 == 0:\n",
        "    lista.append(n)\n",
        "    if len(lista) == 100:\n",
        "      break\n",
        "\n",
        "numero = 58 # EL numero a buscar\n",
        "\n",
        "if numero in lista:\n",
        "  print(f\"El numero está en la posicion {lista.index(numero)+1}\") # Es el indice +1 porque en matématicas empieza desde el 1, no del 0\n",
        "else:\n",
        "  print(f\"El numero no está en la lista\")"
      ],
      "metadata": {
        "colab": {
          "base_uri": "https://localhost:8080/"
        },
        "id": "LpGJUraUhHOd",
        "outputId": "949c348f-3302-4d4f-bbb9-6711210e57bf"
      },
      "execution_count": null,
      "outputs": [
        {
          "output_type": "stream",
          "name": "stdout",
          "text": [
            "20\n",
            "La suma de los primeros 100 términos es 10100\n",
            "Está en la posición 29\n",
            "------------------------------\n",
            "20\n",
            "10100\n",
            "El numero está en la posicion 29\n"
          ]
        }
      ]
    },
    {
      "cell_type": "markdown",
      "source": [
        "# Problema 5"
      ],
      "metadata": {
        "id": "gBcDYpK2Z3GT"
      }
    },
    {
      "cell_type": "markdown",
      "source": [
        "Un nuevo software tiene $500$ usuarios y se espera que el número de usuarios crezca un $15\\%$ respecto al mes anterior. Considere que $b_{n}$ es el número de usuarios transcurridos $n$ meses.\n",
        "\n",
        "1. Calcula cuántos usuarios tendrá el software al cabo de tres meses. ¿Y al cabo de seis meses?\n",
        "2. Mediante un código en *Pyhton* muestra la cantidad de usuarios que tendrá el software cada mes durante el primer año.\n",
        "2. ¿Cuántos usuarios tendrá en total el software luego de un año? Utilice ciclos *for* para calcular."
      ],
      "metadata": {
        "id": "eS3i68R4Z6YQ"
      }
    },
    {
      "cell_type": "code",
      "source": [
        "# Forma profe\n",
        "b1=500*1.15\n",
        "#pregunta 1\n",
        "b3=b1*1.15**(3-1)\n",
        "b6=b1*1.15**(6-1)\n",
        "\n",
        "print(f\"1) Serán {b3:.0f} a los 3 meses y {b6:.0f} a los 6 meses\\n\")\n",
        "\n",
        "#pregunta 2\n",
        "usuario=[]\n",
        "for i in range(12):\n",
        "  n=i+1\n",
        "  usuario.append(b1*1.15**(n-1))\n",
        "  print(f\"mes {n} hay {usuario[i]:.0f} usuarios\")\n",
        "\n",
        "print(\"-\"*30)\n",
        "# Forma mia\n",
        "# 1) Calcula cuántos usuarios tendrá el software al cabo de tres meses. ¿Y al cabo de seis meses?\n",
        "\n",
        "def b(n):\n",
        "  return b1*1.15**(n-1) # Por formula bn = b1*r**(n) / r = razon, en este caso, aumenta 15%, por lo que 1.15 (100% + 15%)\n",
        "\n",
        "b1=500*1.15 # en este caso, aumenta 15%, por lo que 1.15 (100% + 15%)\n",
        "\n",
        "print(f\"1) Serán {b(3):.0f} a los 3 meses y {b(6):.0f} a los 6 meses\\n\")\n",
        "\n",
        "# 2) Mediante un código en Pyhton muestra la cantidad de usuarios que tendrá el software cada mes durante el primer año.\n",
        "usuarios = []\n",
        "def b(n):\n",
        "  return b1*1.15**(n-1)\n",
        "\n",
        "b1=500*1.15\n",
        "\n",
        "for n in range(1, 13):\n",
        "  usuarios.append(b(n))\n",
        "  print(f\"Mes {n} hay {usuarios[n-1]:.0f} usuarios\") # usuarios[n-1] porque crea solo 12, y estaria el último en la posicion 11, por lo que si no tiene el -1, dará error\n",
        "\n",
        "# 3) ¿Cuántos usuarios tendrá en total el software luego de un año? Utilice ciclos for para calcular.\n",
        "\n",
        "usuarios = []\n",
        "def b(n):\n",
        "  return b1*1.15**(n-1)\n",
        "\n",
        "b1=500*1.15\n",
        "\n",
        "for n in range(1, 13): # Recorre desde el 1 hasta el 12(13-1)\n",
        "  usuarios.append(b(n))\n",
        "\n",
        "print(f\"3) La cantidad de usuarios en total luego de un año es de: {usuarios[-1]:.0f}\") # [-1] Imprime el último indice de la lista\n"
      ],
      "metadata": {
        "colab": {
          "base_uri": "https://localhost:8080/"
        },
        "id": "kybgMBC2nhbd",
        "outputId": "8df4ffbf-0b3b-4a9e-df7a-2e385b2ef4b2"
      },
      "execution_count": null,
      "outputs": [
        {
          "output_type": "stream",
          "name": "stdout",
          "text": [
            "1) Serán 760 a los 3 meses y 1157 a los 6 meses\n",
            "\n",
            "mes 1 hay 575 usuarios\n",
            "mes 2 hay 661 usuarios\n",
            "mes 3 hay 760 usuarios\n",
            "mes 4 hay 875 usuarios\n",
            "mes 5 hay 1006 usuarios\n",
            "mes 6 hay 1157 usuarios\n",
            "mes 7 hay 1330 usuarios\n",
            "mes 8 hay 1530 usuarios\n",
            "mes 9 hay 1759 usuarios\n",
            "mes 10 hay 2023 usuarios\n",
            "mes 11 hay 2326 usuarios\n",
            "mes 12 hay 2675 usuarios\n",
            "------------------------------\n",
            "1) Serán 760 a los 3 meses y 1157 a los 6 meses\n",
            "\n",
            "Mes 1 hay 575 usuarios\n",
            "Mes 2 hay 661 usuarios\n",
            "Mes 3 hay 760 usuarios\n",
            "Mes 4 hay 875 usuarios\n",
            "Mes 5 hay 1006 usuarios\n",
            "Mes 6 hay 1157 usuarios\n",
            "Mes 7 hay 1330 usuarios\n",
            "Mes 8 hay 1530 usuarios\n",
            "Mes 9 hay 1759 usuarios\n",
            "Mes 10 hay 2023 usuarios\n",
            "Mes 11 hay 2326 usuarios\n",
            "Mes 12 hay 2675 usuarios\n",
            "3) La cantidad de usuarios en total luego de un año es de: 2675\n"
          ]
        }
      ]
    },
    {
      "cell_type": "markdown",
      "source": [
        "# Problema 6"
      ],
      "metadata": {
        "id": "s2hruXWnJDbS"
      }
    },
    {
      "cell_type": "markdown",
      "source": [
        "Un estudiante de ingeniería informática planea ahorrar para un proyecto personal. Para esto, el primer mes deposita en una cuenta $\\$12.000$, el segundo mes deposita $\\$14.000$ y así sucesivamente, de modo que cada mes aumenta el depósito en $\\$2.000$. Considere que $a_{i}$ corresponde al depósito del estudiante en el mes $i$.\n",
        "\n",
        "1. Implementa un código que permita mostrar en pantalla lo que depositó mensualmente durante el primer año.\n",
        "2. ¿Cuánto depositó el estudiante en febrero del segundo año?\n",
        "3. ¿Cuál será el total ahorrado al finalizar dos años?"
      ],
      "metadata": {
        "id": "hH_VNmA_Og0U"
      }
    },
    {
      "cell_type": "code",
      "source": [
        "#pregunta 1\n",
        "ahorro=[]\n",
        "for i in range (12):\n",
        "  n=i+1\n",
        "  ahorro.append(12000+2000*(n-1))\n",
        "  print(f\"Mes {n}: ${ahorro[i]}\")\n",
        "\n",
        "#pregunta 2\n",
        "def a(n):\n",
        "  return 12000+2000*(n-1)\n",
        "print(f\"\\nEn febrero del segundo año ahorrará ${a(14)}\")\n",
        "\n",
        "#pregunta 3\n",
        "final=[]\n",
        "for i in range (24):\n",
        "  n=i+1\n",
        "  final.append(12000+2000*(n-1))\n",
        "total=sum(final)\n",
        "print(f\"\\nEl total ahorrado es de ${total}\")"
      ],
      "metadata": {
        "id": "QFc8VJJP677I"
      },
      "execution_count": null,
      "outputs": []
    },
    {
      "cell_type": "markdown",
      "source": [
        "# Problema 7"
      ],
      "metadata": {
        "id": "G9sEfl4rB3e8"
      }
    },
    {
      "cell_type": "markdown",
      "source": [
        "Por lo general, los proyectos son organizados en varias etapas que deben completarse secuencialmente.\n",
        "\n",
        "La fase inicial de un proyecto de software tiene una duración de $3$ meses y cada fase subsecuente reduce su duración en un $10 \\%$ debido a la experiencia ganada. Determine:\n",
        "\n",
        "1. ¿Cuánto dura la quinta fase?\n",
        "2. Calcula la duración total del proyecto después de $10$ fases."
      ],
      "metadata": {
        "id": "KZUNnG20CT4F"
      }
    },
    {
      "cell_type": "code",
      "source": [
        "#pregunta 1\n",
        "def t(n):\n",
        "  return 3*0.9**(n-1)\n",
        "print(f\"La duración en la fase 5 es de {t(5):.1f} meses\")\n",
        "\n",
        "#pregunta 2\n",
        "\n",
        "fases=[]\n",
        "for i in range (10):\n",
        "  n=i+1\n",
        "  fases.append(3*0.9**(n-1))\n",
        "total=sum(fases)\n",
        "print(f\"La duración total es de {total:.1f} meses\")"
      ],
      "metadata": {
        "id": "DvFn8eLb68hX"
      },
      "execution_count": null,
      "outputs": []
    },
    {
      "cell_type": "markdown",
      "source": [
        "# Problema 8"
      ],
      "metadata": {
        "id": "keVOy_xIlU1E"
      }
    },
    {
      "cell_type": "markdown",
      "source": [
        "En una sucesión aritmética, la diferencia entre un término y el anterior es $4$ y el décimo término es $-20$. Determine:\n",
        "\n",
        "1. El primer término de la sucesión.\n",
        "2. La expresión del término de lugar $n$.\n",
        "3. Utilice un código en *Python* para calcular el término que ocupa el lugar $100$.\n",
        "4. Determinar la posición del número $1.680$ en la secuencia. Calcule utilizando un ciclo *while*."
      ],
      "metadata": {
        "id": "QXrNG-zulXil"
      }
    },
    {
      "cell_type": "code",
      "source": [
        "#pregunta 1\n",
        "d=4\n",
        "a10=-20\n",
        "a1=a10-d*(10-1)\n",
        "\n",
        "print(f\"1) El primer término es {a1}\")\n",
        "\n",
        "#pregunta 2:\n",
        "print(f\"2) La expresión es a_n= {a1}+{d}(n-1)\")\n",
        "\n",
        "#pregunta 3\n",
        "def t(n):\n",
        "  return-56+4*(n-1)\n",
        "print(f\"3) El término en la posición 100 es {t(100)}\")\n",
        "\n",
        "#pregunta 4 while\n",
        "final=1680\n",
        "termino=0\n",
        "diferencia=final-termino\n",
        "n=0\n",
        "while diferencia>0:\n",
        "  n+=1    # es lo mismo que n=n+1\n",
        "  termino=-56+4*(n-1)\n",
        "  diferencia=final-termino\n",
        "print(f\"4) El término 1680 está en la posición {n}\")\n",
        "\n",
        "#pregunta 4 con index\n",
        "t=[]\n",
        "for i in range (1000):\n",
        "  n=i+1\n",
        "  t.append(-56+4*(n-1))\n",
        "posi=t.index(1680)\n",
        "print(f\"4) El número 1680 está en la posición {posi+1}\")"
      ],
      "metadata": {
        "id": "0WP1VK2H6-TG"
      },
      "execution_count": null,
      "outputs": []
    },
    {
      "cell_type": "markdown",
      "source": [
        "# Problema 9"
      ],
      "metadata": {
        "id": "gFYqGSbdqoqT"
      }
    },
    {
      "cell_type": "markdown",
      "source": [
        "El tercer término de una sucesión geométrica es $5$ y el sexto término es $40$. Determine:\n",
        "\n",
        "1. La razón geométrica de la sucesión.\n",
        "2. El primer término de la sucesión.\n",
        "3. La expresión del término de lugar $n$.\n",
        "4. Utilice un código en *Python* para calcular el término que ocupa el lugar $8$.\n",
        "4. ¿Qué lugar ocupa en esta sucesión el término $20.480$? Calcule utilizando un ciclo *while*."
      ],
      "metadata": {
        "id": "UtblbNCYqxOM"
      }
    },
    {
      "cell_type": "code",
      "source": [
        "#pregunta 1\n",
        "a3=5\n",
        "a6=40\n",
        "d=6-3\n",
        "r=(a6/a3)**(1/d)\n",
        "print(f\"1) La razón es {r}\")\n",
        "\n",
        "#pregunta 2\n",
        "a1=a3/(r**(3-1))\n",
        "print(f\"2) El primer término es {a1}\")\n",
        "\n",
        "#pregunta 3\n",
        "print(f\"3) an={a1}*{r:.0f}**(n-1)\")\n",
        "\n",
        "#pregunta 4\n",
        "def s(n):\n",
        "  return 1.25*2**(n-1)\n",
        "print(f\"4) El término en la posición 8 es {s(8)}\")\n",
        "\n",
        "#preguta 5 while\n",
        "final=20480\n",
        "termino=0\n",
        "dif=final-termino\n",
        "n=0\n",
        "while dif>0:\n",
        "  n+=1\n",
        "  termino=1.25*2**(n-1)\n",
        "  dif=final-termino\n",
        "print(f\"5) El término 20480 está en la posición {n}\")\n",
        "\n",
        "#pregunta 5 while if/else\n",
        "final=20480\n",
        "n=1\n",
        "termino=1.25\n",
        "while termino<final:\n",
        "  n+=1\n",
        "  termino=1.25*2**(n-1)\n",
        "if termino==final:\n",
        "  print(f\"5) El número buscado está en la posición {n}\")\n",
        "else:\n",
        "  print(f\"5) El número buscado no está en la sucesión\")\n"
      ],
      "metadata": {
        "id": "s48Q3DRt6_4e"
      },
      "execution_count": null,
      "outputs": []
    },
    {
      "cell_type": "markdown",
      "source": [
        "# Problema 10"
      ],
      "metadata": {
        "id": "Ju4J8uWfxQKk"
      }
    },
    {
      "cell_type": "markdown",
      "source": [
        "Una empresa de tecnología está optimizando sus servidores. Para ello mide las transacciones por segundo (TPS) de sus servidores en cada mes. Se ha obtenido que en el segundo mes, el rendimiento del servidor fue $1,2$ miles de TPS y en el quinto mes, el rendimiento fue $2,7$ miles de TPS. Si el número de TPS que hay mes a mes sigue una sucesión geométrica, determina utilizando un código en *Python*:\n",
        "\n",
        "1. ¿Cuál es el rendimiento el noveno mes?\n",
        "2. ¿En qué mes el rendimiento es de $23,4$ miles de TPS?\n",
        "\n",
        "Utilice dos decimales para el cálculo."
      ],
      "metadata": {
        "id": "F6FPVCXQxTMj"
      }
    },
    {
      "cell_type": "code",
      "source": [
        "#Determinar la razón\n",
        "a2=1.2\n",
        "a5=2.7\n",
        "d=5-2\n",
        "r=(a5/a2)**(1/d)\n",
        "print(f\"La razón es {r:.2f}\")\n",
        "\n",
        "#Determinar el primer término\n",
        "a1=a2/r\n",
        "print(f\"El primer término es {a1:.2f}\")\n",
        "\n",
        "#Pregunta 1\n",
        "def a(n):\n",
        "  return 0.92*1.31**(n-1)\n",
        "print(f\"1) El rendimiento al noveno mes es de {a(9):.2f} miles TPS\")\n",
        "\n",
        "#Pregunta 2\n",
        "final=23.4\n",
        "termino=0\n",
        "diferencia=final-termino\n",
        "n=0\n",
        "while diferencia>0:\n",
        "  n+=1\n",
        "  termino=0.92*1.31**(n-1)\n",
        "  diferencia=final-termino\n",
        "print(f\"2) Corresponde al mes {n}\")"
      ],
      "metadata": {
        "id": "P8Sg4tLd7BvW"
      },
      "execution_count": null,
      "outputs": []
    },
    {
      "cell_type": "markdown",
      "source": [
        "# Problema 11"
      ],
      "metadata": {
        "id": "jxQyaJXUCW7m"
      }
    },
    {
      "cell_type": "markdown",
      "source": [
        "Una aplicación de redes sociales se estrenó el $1$ de enero con una cierta cantidad de usuarios. A partir de ahí, el número de usuarios nuevos de cada día fue siempre el mismo. El $3$ de enero tenía $500$ usuarios en total y el $10$ de enero tenía $1.501$ usuarios totales.Determine:\n",
        "\n",
        "1. ¿Con cuántos usuarios comenzó a funcionar la aplicación?\n",
        "2. ¿Cuántos usuarios tendrá la aplicación el $31$ de enero?\n",
        "3. Si la aplicación tiene $5.505$ usuarios, ¿cuántos meses lleva funcionando?\n",
        "\n"
      ],
      "metadata": {
        "id": "8LdxsBUwDfbf"
      }
    },
    {
      "cell_type": "code",
      "source": [
        "#Determinar la diferencia\n",
        "a3=500\n",
        "a10=1501\n",
        "dif=10-3\n",
        "\n",
        "d=(a10-a3)/dif\n",
        "\n",
        "print(f\"La diferencia es {d:.0f}\")\n",
        "\n",
        "#pregunta 1\n",
        "a1=a3-d*2\n",
        "print(f\"1) El primer día hay {a1:.0f} usuarios\")\n",
        "\n",
        "#pregunta 2\n",
        "def u(n):\n",
        "  return 214+143*(n-1)\n",
        "print(f\"2) El 31 de enero habrán {u(31):.0f} usuarios\")\n",
        "\n",
        "#pregunta 3\n",
        "u=[]\n",
        "for i in range (1000):\n",
        "  n=i+1\n",
        "  u.append(214+143*(n-1))\n",
        "pos=u.index(5505)\n",
        "print(f\"3) Hay 5505 usuarios a los {(pos+1)/30:.2f} meses\")"
      ],
      "metadata": {
        "id": "D0uEzgcq7D-G"
      },
      "execution_count": null,
      "outputs": []
    },
    {
      "cell_type": "markdown",
      "source": [
        "# Problema 12"
      ],
      "metadata": {
        "id": "zBN3BhYVLLSe"
      }
    },
    {
      "cell_type": "markdown",
      "source": [
        "Una empresa de publicidad ofrece para un puesto de trabajo un salario inicial y un aumento mensual en una razón constante. Javier se presenta a la entrevista, y el encargado del departamento de recursos humanos le explica que en el segundo mes de trabajo su sueldo será de $\\$402.000$, y que en el tercer mes de trabajo será de $\\$404.010$. Determine:\n",
        "\n",
        "1. El salario aproximado que Javier recibiría en el décimo mes de trabajo en la empresa.\n",
        "2. ¿Cuál sería el ingreso total recibido por los sueldos de Javier durante el tercer año de trabajo?"
      ],
      "metadata": {
        "id": "kszkhh_GLQN1"
      }
    },
    {
      "cell_type": "markdown",
      "source": [
        "# Problema 13"
      ],
      "metadata": {
        "id": "-lx5k4b9Y8sD"
      }
    },
    {
      "cell_type": "markdown",
      "source": [
        "Una empresa de ciberseguridad capacita trabajadores cada trimestre. En el primer trimestre capacitaron a $30$ trabajadores, en el segundo trimestre a $60$ trabajadores, y en el tercer trimestre a $120$ trabajadores. Si en los siguientes trimestres la empresa mantiene el mismo patrón de crecimiento, determine utilizando *Python*:\n",
        "\n",
        "1. ¿A cuántos trabajadores capacitarán en el octavo trimestre?\n",
        "2. Si la empresa lleva en el mercado $3$ años, ¿a cuántos trabajadores han capacitado en total?"
      ],
      "metadata": {
        "id": "OVuWQuXsY_pp"
      }
    },
    {
      "cell_type": "markdown",
      "source": [
        "# Problema 14"
      ],
      "metadata": {
        "id": "IM7Xf51G6AXs"
      }
    },
    {
      "cell_type": "markdown",
      "source": [
        "Al llenar un tambor con agua, se registra que durante el minuto $4$ el tambor recibe $128$ litros, y durante el minuto $9$ recibe $88$ litros. Sabiendo que en cada minuto recibe una cantidad $d$ de litros de agua menos que en el minuto anterior, determine:\n",
        "\n",
        "1. ¿En qué instante el tambor deja de recibir agua?\n",
        "2. ¿Cuántos litros recibe en total el tambor?\n",
        "\n",
        "Realice los cálculos anteriores utilizando *Python*."
      ],
      "metadata": {
        "id": "Ni_4WMQl6OeV"
      }
    }
  ]
}