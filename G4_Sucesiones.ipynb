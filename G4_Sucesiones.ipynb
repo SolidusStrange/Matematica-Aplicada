{
  "nbformat": 4,
  "nbformat_minor": 0,
  "metadata": {
    "colab": {
      "provenance": [],
      "generative_ai_disabled": true,
      "include_colab_link": true
    },
    "kernelspec": {
      "name": "python3",
      "display_name": "Python 3"
    },
    "language_info": {
      "name": "python"
    }
  },
  "cells": [
    {
      "cell_type": "markdown",
      "metadata": {
        "id": "view-in-github",
        "colab_type": "text"
      },
      "source": [
        "<a href=\"https://colab.research.google.com/github/SolidusStrange/Matematica-Aplicada/blob/main/G4_Sucesiones.ipynb\" target=\"_parent\"><img src=\"https://colab.research.google.com/assets/colab-badge.svg\" alt=\"Open In Colab\"/></a>"
      ]
    },
    {
      "cell_type": "markdown",
      "source": [
        "# Problema 1"
      ],
      "metadata": {
        "id": "Jsg7AmugfdN3"
      }
    },
    {
      "cell_type": "markdown",
      "source": [
        "Considere la sucesión $a_{n} = 3n^{2} + 7$. Por medio de un código en *Python* despliega en pantalla:\n",
        "\n",
        "1. Los primeros $5$ términos.\n",
        "2. Los $5$ términos que vienen inmediatamente después del decimoquinto término."
      ],
      "metadata": {
        "id": "_IzpNklvfgKe"
      }
    },
    {
      "cell_type": "code",
      "source": [
        "# Los primeros 5 términos\n",
        "lista = []\n",
        "\n",
        "def a(n):\n",
        "  return 3*n**2 + 7\n",
        "\n",
        "for n in range(1, 6):\n",
        "  lista.append(a(n))\n",
        "\n",
        "print(lista)\n",
        "\n",
        "\n"
      ],
      "metadata": {
        "colab": {
          "base_uri": "https://localhost:8080/"
        },
        "id": "8-RJOB-S6cz9",
        "outputId": "4d512e18-4c0a-452c-f301-233efa2d51c7"
      },
      "execution_count": 7,
      "outputs": [
        {
          "output_type": "stream",
          "name": "stdout",
          "text": [
            "[10, 19, 34, 55, 82]\n"
          ]
        }
      ]
    },
    {
      "cell_type": "code",
      "source": [
        "print(\"Opcion lista:\")\n",
        "lista = []\n",
        "\n",
        "for i in range(5):\n",
        "  n = i+1\n",
        "  lista.append(3*n**2+7)\n",
        "print(lista)"
      ],
      "metadata": {
        "id": "KN3yOmKEZOQ6",
        "outputId": "5ec36b5a-c4cb-4a7a-90ae-c4f736d9f51e",
        "colab": {
          "base_uri": "https://localhost:8080/"
        }
      },
      "execution_count": 4,
      "outputs": [
        {
          "output_type": "stream",
          "name": "stdout",
          "text": [
            "Opcion lista:\n",
            "[10, 19, 34, 55, 82]\n"
          ]
        }
      ]
    },
    {
      "cell_type": "code",
      "source": [
        "# Despues del decimoquinto término\n",
        "lista = []\n",
        "def a(n):\n",
        "  return 3*n**2 + 7\n",
        "\n",
        "for n in range(16, 21):\n",
        "  lista.append(a(n))\n",
        "print(lista)"
      ],
      "metadata": {
        "colab": {
          "base_uri": "https://localhost:8080/"
        },
        "id": "XY2NoMeu8pEu",
        "outputId": "95540446-9580-4feb-df8f-1b1fe926993a"
      },
      "execution_count": 9,
      "outputs": [
        {
          "output_type": "stream",
          "name": "stdout",
          "text": [
            "[775, 874, 979, 1090, 1207]\n"
          ]
        }
      ]
    },
    {
      "cell_type": "markdown",
      "source": [
        "# Problema 2"
      ],
      "metadata": {
        "id": "MpHLoYWfk97E"
      }
    },
    {
      "cell_type": "markdown",
      "source": [
        "Considere la sucesión $g_{n} = 5n^{3}$. Implemente un código en *Python* que muestre en pantalla:\n",
        "\n",
        "1. Los primeros $4$ términos de la sucesión.\n",
        "2. Los $4$ términos que vienen inmediatamente después del octavo término.\n",
        "3. Determinar si el término $40.000$ pertenece a la sucesión. Si es así, indicar en qué posición se encuentra."
      ],
      "metadata": {
        "id": "TdrPqS7Mk_l0"
      }
    },
    {
      "cell_type": "code",
      "source": [
        "lista = []\n",
        "def g(n):\n",
        "  return 5*n**3\n",
        "\n",
        "# Los primeros 4 terminos de la sucesion\n",
        "for n in range(1, 5):\n",
        "  lista.append(g(n))\n",
        "\n",
        "print(lista)"
      ],
      "metadata": {
        "colab": {
          "base_uri": "https://localhost:8080/"
        },
        "id": "TUfv5TCS-S8v",
        "outputId": "5ab71f93-1829-4a08-b120-2b61a3a0498b"
      },
      "execution_count": 10,
      "outputs": [
        {
          "output_type": "stream",
          "name": "stdout",
          "text": [
            "[5, 40, 135, 320]\n"
          ]
        }
      ]
    },
    {
      "cell_type": "code",
      "source": [
        "lista = []\n",
        "def g(n):\n",
        "  return 5*n**3\n",
        "\n",
        "# Los 4 terminos que vienen inmediatamente despues del octavo termino\n",
        "for n in range(9, 13):\n",
        "  lista.append(g(n))\n",
        "\n",
        "print(lista)"
      ],
      "metadata": {
        "colab": {
          "base_uri": "https://localhost:8080/"
        },
        "id": "VZHuvMmTAU84",
        "outputId": "e6228080-4e03-4e81-db32-897bcb827a7a"
      },
      "execution_count": 11,
      "outputs": [
        {
          "output_type": "stream",
          "name": "stdout",
          "text": [
            "[3645, 5000, 6655, 8640]\n"
          ]
        }
      ]
    },
    {
      "cell_type": "code",
      "source": [
        "def g(n):\n",
        "  return 5*n**3\n",
        "\n",
        "encontrado = False\n",
        "for n in range(1, 50):\n",
        "  if g(n) == 40000:\n",
        "    print(f\"El termino 40000 pertenece a sucesion en la posición {n}\")\n",
        "    encontrado = True\n",
        "    break\n",
        "\n",
        "if not encontrado:\n",
        "  print(\"El término 40000 no se encontró en la sucesión\")"
      ],
      "metadata": {
        "colab": {
          "base_uri": "https://localhost:8080/"
        },
        "id": "Qvo6UmN7CYkI",
        "outputId": "42822508-afad-4151-9ef4-0997a4581c34"
      },
      "execution_count": 12,
      "outputs": [
        {
          "output_type": "stream",
          "name": "stdout",
          "text": [
            "El termino 40000 pertenece a sucesion en la posición 20\n"
          ]
        }
      ]
    },
    {
      "cell_type": "code",
      "source": [
        "e = []\n",
        "for i in range(1000):\n",
        "  n=i+1\n",
        "  e.append(5*n**3)\n",
        "pos = e.index(40000)\n",
        "print(f\"El numero está en la posición {pos+1}\")\n"
      ],
      "metadata": {
        "id": "cyxS1jhVcFPL",
        "outputId": "c92c006a-9772-4e8b-d522-e17f186bfed6",
        "colab": {
          "base_uri": "https://localhost:8080/"
        }
      },
      "execution_count": 14,
      "outputs": [
        {
          "output_type": "stream",
          "name": "stdout",
          "text": [
            "El numero está en la posición 20\n"
          ]
        }
      ]
    },
    {
      "cell_type": "markdown",
      "source": [
        "# Problema 3"
      ],
      "metadata": {
        "id": "7GDU-KDLuR7i"
      }
    },
    {
      "cell_type": "markdown",
      "source": [
        "La sucesión de Fibonacci es una serie de números en la que cada número, desde el tercero en adelante, es la suma de los dos anteriores. Comienza con el $0$ y $1$, tal como se observa a continuación:\n",
        "\n",
        "$$0, 1, 1, 2, 3, 5, 8, 13, ...$$\n",
        "\n",
        "Formalmente, la sucesión se define de la siguiente manera:\n",
        "\n",
        "\\begin{split}\n",
        "F(0) &= 0\\\\\n",
        "F(1) &= 1\\\\\n",
        "F(n) &= F(n - 1) + F(n - 2), \\ \\text{ para $n \\geq 2$}\n",
        "\\end{split}\n",
        "\n",
        "Esta sucesión se utiliza en una variedad de contextos en informática y algoritmos debido a sus propiedades matemáticas y patrones.\n",
        "\n",
        "1. Implementa un código en *Python* que muestre en pantalla los primeros $20$ términos de la sucesión.\n",
        "2. Calcula, utilizando un ciclo *for*, la suma de los primeros $30$ términos de la sucesión de Fibonacci."
      ],
      "metadata": {
        "id": "GG1duXd1uU6Z"
      }
    },
    {
      "cell_type": "code",
      "source": [
        "# Primeros 20 terminos de la sucesión\n",
        "lista = []\n",
        "\n",
        "def fibo(n):\n",
        "  if n==0:\n",
        "    return 0\n",
        "  elif n==1:\n",
        "    return 1\n",
        "  elif n>=2:\n",
        "    return fibo(n - 1) + fibo(n - 2)\n",
        "\n",
        "for n in range(21):\n",
        "  lista.append(fibo(n))\n",
        "\n",
        "print(lista)"
      ],
      "metadata": {
        "colab": {
          "base_uri": "https://localhost:8080/"
        },
        "id": "2AXs0tuC9Iqo",
        "outputId": "1c34eda4-9896-4f96-a998-a1ae03a8cd79"
      },
      "execution_count": 13,
      "outputs": [
        {
          "output_type": "stream",
          "name": "stdout",
          "text": [
            "[0, 1, 1, 2, 3, 5, 8, 13, 21, 34, 55, 89, 144, 233, 377, 610, 987, 1597, 2584, 4181, 6765]\n"
          ]
        }
      ]
    },
    {
      "cell_type": "code",
      "source": [
        "# La suma de los primeros 30 términos de la sucesión\n",
        "def fibo(n):\n",
        "  if n==0:\n",
        "    return 0\n",
        "  elif n==1:\n",
        "    return 1\n",
        "  elif n>=2:\n",
        "    return fibo(n - 1) + fibo(n - 2)\n",
        "\n",
        "print(fibo(n))"
      ],
      "metadata": {
        "id": "13zjtJsZ5y20",
        "outputId": "9e729212-4a09-4870-c8cf-803261614cf6",
        "colab": {
          "base_uri": "https://localhost:8080/"
        }
      },
      "execution_count": null,
      "outputs": [
        {
          "output_type": "stream",
          "name": "stdout",
          "text": [
            "6765\n"
          ]
        }
      ]
    },
    {
      "cell_type": "markdown",
      "source": [
        "# Problema 4"
      ],
      "metadata": {
        "id": "OFL3b7nt8Rq_"
      }
    },
    {
      "cell_type": "markdown",
      "source": [
        "Implementa un código que permita guardar en una lista la sucesión de los primeros $n$ números pares, con $n \\geq 1$. Luego, determina:\n",
        "\n",
        "1. ¿Cuál es el valor del décimo término?\n",
        "2. Calcula, utilizando un ciclo *for*, la suma de los primeros $100$ números pares.\n",
        "3. ¿En qué posición se encuentra el número $58$ dentro de la sucesión?"
      ],
      "metadata": {
        "id": "j5QlZQwJSDsZ"
      }
    },
    {
      "cell_type": "code",
      "source": [
        "lista = []\n",
        "\n",
        "contador = 1\n",
        "par = 0\n",
        "while contador<=10:\n",
        "  if par%2==0:\n",
        "\n",
        "\n",
        "print(lista)"
      ],
      "metadata": {
        "id": "PZ4qfhcRdQMd",
        "outputId": "d62896cd-18c5-4ab0-9214-ef58eee04edb",
        "colab": {
          "base_uri": "https://localhost:8080/"
        }
      },
      "execution_count": 28,
      "outputs": [
        {
          "output_type": "stream",
          "name": "stdout",
          "text": [
            "[]\n"
          ]
        }
      ]
    },
    {
      "cell_type": "code",
      "source": [
        "lista = []\n",
        "par = 0\n",
        "for i in range(100):\n",
        "  if i%2==0:\n",
        "    lista.append(i)\n",
        "    par+=1\n",
        "print(lista[10])"
      ],
      "metadata": {
        "id": "RrN14gU2hHAb",
        "outputId": "05a2e9f7-9a66-48e4-9d76-79f0dc61eae1",
        "colab": {
          "base_uri": "https://localhost:8080/"
        }
      },
      "execution_count": 23,
      "outputs": [
        {
          "output_type": "stream",
          "name": "stdout",
          "text": [
            "20\n"
          ]
        }
      ]
    },
    {
      "cell_type": "code",
      "source": [
        "lista = []\n",
        "par = 0\n",
        "for i in range(300):\n",
        "  if i%2==0:\n",
        "    lista.append(i)\n",
        "    par += 1\n",
        "    if par==101:\n",
        "      break\n",
        "\n",
        "print(sum(lista))"
      ],
      "metadata": {
        "id": "3MsAJauQh2CU",
        "outputId": "6cdd2428-afe6-4ef7-ec43-3550f40e9d3b",
        "colab": {
          "base_uri": "https://localhost:8080/"
        }
      },
      "execution_count": 31,
      "outputs": [
        {
          "output_type": "stream",
          "name": "stdout",
          "text": [
            "10100\n"
          ]
        }
      ]
    },
    {
      "cell_type": "code",
      "source": [
        "lista = []\n",
        "par = 0\n",
        "for i in range(300):\n",
        "  if i%2==0:\n",
        "    lista.append(i)\n",
        "    par += 1\n",
        "    if par==101:\n",
        "      break\n",
        "\n",
        "for i in lista:\n",
        ""
      ],
      "metadata": {
        "id": "LVe9MliTjTuN",
        "outputId": "38e934ac-ff3d-46bb-8499-46946dcf63fa",
        "colab": {
          "base_uri": "https://localhost:8080/"
        }
      },
      "execution_count": 32,
      "outputs": [
        {
          "output_type": "stream",
          "name": "stdout",
          "text": [
            "116\n"
          ]
        }
      ]
    },
    {
      "cell_type": "markdown",
      "source": [
        "# Problema 5"
      ],
      "metadata": {
        "id": "gBcDYpK2Z3GT"
      }
    },
    {
      "cell_type": "markdown",
      "source": [
        "Un nuevo software tiene $500$ usuarios y se espera que el número de usuarios crezca un $15\\%$ respecto al mes anterior. Considere que $b_{n}$ es el número de usuarios transcurridos $n$ meses.\n",
        "\n",
        "1. Calcula cuántos usuarios tendrá el software al cabo de tres meses. ¿Y al cabo de seis meses?\n",
        "2. Mediante un código en *Pyhton* muestra la cantidad de usuarios que tendrá el software cada mes durante el primer año.\n",
        "2. ¿Cuántos usuarios tendrá en total el software luego de un año? Utilice ciclos *for* para calcular."
      ],
      "metadata": {
        "id": "eS3i68R4Z6YQ"
      }
    },
    {
      "cell_type": "code",
      "source": [
        "#Sucesion aritmetica\n",
        "# a1 + d(n-1)\n",
        "\n",
        "#Sucesion geometrica\n",
        "# a1 + r**(n-1)"
      ],
      "metadata": {
        "id": "O35gmA1Mjxey"
      },
      "execution_count": null,
      "outputs": []
    },
    {
      "cell_type": "code",
      "source": [
        "# Prueba mia\n",
        "def a(n):\n",
        "  return b1*1.15**(n-1)\n",
        "b1 = 500*1.15\n",
        "\n",
        "print(f\"1) Serán {a(3):.0f} a los 3 meses y {a(6):.0f} a los 6 meses\")\n",
        "\n",
        "# Ejemplo profesora\n",
        "b1 = 500*1.15\n",
        "b3 = b1*1.15**(3-1)\n",
        "b6 = b1*1.15**(6-1)\n",
        "\n",
        "print(f\"1) Serán {b3:.0f} a los 3 meses y {b6:.0f} a los 6 meses\")\n",
        ""
      ],
      "metadata": {
        "id": "pv71IKzckcsK",
        "outputId": "98884e31-f846-4f9e-f70e-7bdf757dd9d6",
        "colab": {
          "base_uri": "https://localhost:8080/"
        }
      },
      "execution_count": 38,
      "outputs": [
        {
          "output_type": "stream",
          "name": "stdout",
          "text": [
            "1) Serán 760 a los 3 meses y 1157 a los 6 meses\n",
            "1) Serán 760 a los 3 meses y 1157 a los 6 meses\n"
          ]
        }
      ]
    },
    {
      "cell_type": "code",
      "source": [
        "lista = []\n",
        "def a(n):\n",
        "  return b1*1.15**(n-1)\n",
        "\n",
        "b1 = 500*1.15\n",
        "\n",
        "for n in range(1, 13):\n",
        "  lista.append(a(n))\n",
        "  print(f\"Mes {n} hay {lista[n]} usuarios\")\n",
        "\n",
        "print(lista[11])\n"
      ],
      "metadata": {
        "id": "1AaWcACJpS4K",
        "outputId": "5f3d0c40-797f-4843-9257-8bbdee6db36f",
        "colab": {
          "base_uri": "https://localhost:8080/",
          "height": 211
        }
      },
      "execution_count": 46,
      "outputs": [
        {
          "output_type": "error",
          "ename": "IndexError",
          "evalue": "list index out of range",
          "traceback": [
            "\u001b[0;31m---------------------------------------------------------------------------\u001b[0m",
            "\u001b[0;31mIndexError\u001b[0m                                Traceback (most recent call last)",
            "\u001b[0;32m/tmp/ipython-input-399718118.py\u001b[0m in \u001b[0;36m<cell line: 0>\u001b[0;34m()\u001b[0m\n\u001b[1;32m      7\u001b[0m \u001b[0;32mfor\u001b[0m \u001b[0mn\u001b[0m \u001b[0;32min\u001b[0m \u001b[0mrange\u001b[0m\u001b[0;34m(\u001b[0m\u001b[0;36m1\u001b[0m\u001b[0;34m,\u001b[0m \u001b[0;36m13\u001b[0m\u001b[0;34m)\u001b[0m\u001b[0;34m:\u001b[0m\u001b[0;34m\u001b[0m\u001b[0;34m\u001b[0m\u001b[0m\n\u001b[1;32m      8\u001b[0m   \u001b[0mlista\u001b[0m\u001b[0;34m.\u001b[0m\u001b[0mappend\u001b[0m\u001b[0;34m(\u001b[0m\u001b[0ma\u001b[0m\u001b[0;34m(\u001b[0m\u001b[0mn\u001b[0m\u001b[0;34m)\u001b[0m\u001b[0;34m)\u001b[0m\u001b[0;34m\u001b[0m\u001b[0;34m\u001b[0m\u001b[0m\n\u001b[0;32m----> 9\u001b[0;31m   \u001b[0mprint\u001b[0m\u001b[0;34m(\u001b[0m\u001b[0;34mf\"Mes {n} hay {lista[n]} usuarios\"\u001b[0m\u001b[0;34m)\u001b[0m\u001b[0;34m\u001b[0m\u001b[0;34m\u001b[0m\u001b[0m\n\u001b[0m\u001b[1;32m     10\u001b[0m \u001b[0;34m\u001b[0m\u001b[0m\n\u001b[1;32m     11\u001b[0m \u001b[0mprint\u001b[0m\u001b[0;34m(\u001b[0m\u001b[0mlista\u001b[0m\u001b[0;34m[\u001b[0m\u001b[0;36m11\u001b[0m\u001b[0;34m]\u001b[0m\u001b[0;34m)\u001b[0m\u001b[0;34m\u001b[0m\u001b[0;34m\u001b[0m\u001b[0m\n",
            "\u001b[0;31mIndexError\u001b[0m: list index out of range"
          ]
        }
      ]
    },
    {
      "cell_type": "markdown",
      "source": [
        "# Problema 6"
      ],
      "metadata": {
        "id": "s2hruXWnJDbS"
      }
    },
    {
      "cell_type": "markdown",
      "source": [
        "Un estudiante de ingeniería informática planea ahorrar para un proyecto personal. Para esto, el primer mes deposita en una cuenta $\\$12.000$, el segundo mes deposita $\\$14.000$ y así sucesivamente, de modo que cada mes aumenta el depósito en $\\$2.000$. Considere que $a_{i}$ corresponde al depósito del estudiante en el mes $i$.\n",
        "\n",
        "1. Implementa un código que permita mostrar en pantalla lo que depositó mensualmente durante el primer año.\n",
        "2. ¿Cuánto depositó el estudiante en febrero del segundo año?\n",
        "3. ¿Cuál será el total ahorrado al finalizar dos años?"
      ],
      "metadata": {
        "id": "hH_VNmA_Og0U"
      }
    },
    {
      "cell_type": "markdown",
      "source": [
        "# Problema 7"
      ],
      "metadata": {
        "id": "G9sEfl4rB3e8"
      }
    },
    {
      "cell_type": "markdown",
      "source": [
        "Por lo general, los proyectos son organizados en varias etapas que deben completarse secuencialmente.\n",
        "\n",
        "La fase inicial de un proyecto de software tiene una duración de $3$ meses y cada fase subsecuente reduce su duración en un $10 \\%$ debido a la experiencia ganada. Determine:\n",
        "\n",
        "1. ¿Cuánto dura la quinta fase?\n",
        "2. Calcula la duración total del proyecto después de $10$ fases."
      ],
      "metadata": {
        "id": "KZUNnG20CT4F"
      }
    },
    {
      "cell_type": "markdown",
      "source": [
        "# Problema 8"
      ],
      "metadata": {
        "id": "keVOy_xIlU1E"
      }
    },
    {
      "cell_type": "markdown",
      "source": [
        "En una sucesión aritmética, la diferencia entre un término y el anterior es $4$ y el décimo término es $-20$. Determine:\n",
        "\n",
        "1. El primer término de la sucesión.\n",
        "2. La expresión del término de lugar $n$.\n",
        "3. Utilice un código en *Python* para calcular el término que ocupa el lugar $100$.\n",
        "4. Determinar la posición del número $1.680$ en la secuencia. Calcule utilizando un ciclo *while*."
      ],
      "metadata": {
        "id": "QXrNG-zulXil"
      }
    },
    {
      "cell_type": "markdown",
      "source": [
        "# Problema 9"
      ],
      "metadata": {
        "id": "gFYqGSbdqoqT"
      }
    },
    {
      "cell_type": "markdown",
      "source": [
        "El tercer término de una sucesión geométrica es $5$ y el sexto término es $40$. Determine:\n",
        "\n",
        "1. La razón geométrica de la sucesión.\n",
        "2. El primer término de la sucesión.\n",
        "3. La expresión del término de lugar $n$.\n",
        "4. Utilice un código en *Python* para calcular el término que ocupa el lugar $8$.\n",
        "4. ¿Qué lugar ocupa en esta sucesión el término $20.480$? Calcule utilizando un ciclo *while*."
      ],
      "metadata": {
        "id": "UtblbNCYqxOM"
      }
    },
    {
      "cell_type": "markdown",
      "source": [
        "# Problema 10"
      ],
      "metadata": {
        "id": "Ju4J8uWfxQKk"
      }
    },
    {
      "cell_type": "markdown",
      "source": [
        "Una empresa de tecnología está optimizando sus servidores. Para ello mide las transacciones por segundo (TPS) de sus servidores en cada mes. Se ha obtenido que en el segundo mes, el rendimiento del servidor fue $1,2$ miles de TPS y en el quinto mes, el rendimiento fue $2,7$ miles de TPS. Si el número de TPS que hay mes a mes sigue una sucesión geométrica, determina utilizando un código en *Python*:\n",
        "\n",
        "1. ¿Cuál es el rendimiento el noveno mes?\n",
        "2. ¿En qué mes el rendimiento es de $23,4$ miles de TPS?\n",
        "\n",
        "Utilice dos decimales para el cálculo."
      ],
      "metadata": {
        "id": "F6FPVCXQxTMj"
      }
    },
    {
      "cell_type": "markdown",
      "source": [
        "# Problema 11"
      ],
      "metadata": {
        "id": "jxQyaJXUCW7m"
      }
    },
    {
      "cell_type": "markdown",
      "source": [
        "Una aplicación de redes sociales se estrenó el $1$ de enero con una cierta cantidad de usuarios. A partir de ahí, el número de usuarios nuevos de cada día fue siempre el mismo. El $3$ de enero tenía $500$ usuarios en total y el $10$ de enero tenía $1.501$ usuarios totales.Determine:\n",
        "\n",
        "1. ¿Con cuántos usuarios comenzó a funcionar la aplicación?\n",
        "2. ¿Cuántos usuarios tendrá la aplicación el $31$ de enero?\n",
        "3. Si la aplicación tiene $5.505$ usuarios, ¿cuántos meses lleva funcionando?\n",
        "\n"
      ],
      "metadata": {
        "id": "8LdxsBUwDfbf"
      }
    },
    {
      "cell_type": "markdown",
      "source": [
        "# Problema 12"
      ],
      "metadata": {
        "id": "zBN3BhYVLLSe"
      }
    },
    {
      "cell_type": "markdown",
      "source": [
        "Una empresa de publicidad ofrece para un puesto de trabajo un salario inicial y un aumento mensual en una razón constante. Javier se presenta a la entrevista, y el encargado del departamento de recursos humanos le explica que en el segundo mes de trabajo su sueldo será de $\\$402.000$, y que en el tercer mes de trabajo será de $\\$404.010$. Determine:\n",
        "\n",
        "1. El salario aproximado que Javier recibiría en el décimo mes de trabajo en la empresa.\n",
        "2. ¿Cuál sería el ingreso total recibido por los sueldos de Javier durante el tercer año de trabajo?"
      ],
      "metadata": {
        "id": "kszkhh_GLQN1"
      }
    },
    {
      "cell_type": "markdown",
      "source": [
        "# Problema 13"
      ],
      "metadata": {
        "id": "-lx5k4b9Y8sD"
      }
    },
    {
      "cell_type": "markdown",
      "source": [
        "Una empresa de ciberseguridad capacita trabajadores cada trimestre. En el primer trimestre capacitaron a $30$ trabajadores, en el segundo trimestre a $60$ trabajadores, y en el tercer trimestre a $120$ trabajadores. Si en los siguientes trimestres la empresa mantiene el mismo patrón de crecimiento, determine utilizando *Python*:\n",
        "\n",
        "1. ¿A cuántos trabajadores capacitarán en el octavo trimestre?\n",
        "2. Si la empresa lleva en el mercado $3$ años, ¿a cuántos trabajadores han capacitado en total?"
      ],
      "metadata": {
        "id": "OVuWQuXsY_pp"
      }
    },
    {
      "cell_type": "markdown",
      "source": [
        "# Problema 14"
      ],
      "metadata": {
        "id": "IM7Xf51G6AXs"
      }
    },
    {
      "cell_type": "markdown",
      "source": [
        "Al llenar un tambor con agua, se registra que durante el minuto $4$ el tambor recibe $128$ litros, y durante el minuto $9$ recibe $88$ litros. Sabiendo que en cada minuto recibe una cantidad $d$ de litros de agua menos que en el minuto anterior, determine:\n",
        "\n",
        "1. ¿En qué instante el tambor deja de recibir agua?\n",
        "2. ¿Cuántos litros recibe en total el tambor?\n",
        "\n",
        "Realice los cálculos anteriores utilizando *Python*."
      ],
      "metadata": {
        "id": "Ni_4WMQl6OeV"
      }
    }
  ]
}