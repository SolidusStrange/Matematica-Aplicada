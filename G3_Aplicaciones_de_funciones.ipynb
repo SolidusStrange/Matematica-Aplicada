{
  "nbformat": 4,
  "nbformat_minor": 0,
  "metadata": {
    "colab": {
      "provenance": [],
      "include_colab_link": true
    },
    "kernelspec": {
      "name": "python3",
      "display_name": "Python 3"
    },
    "language_info": {
      "name": "python"
    }
  },
  "cells": [
    {
      "cell_type": "markdown",
      "metadata": {
        "id": "view-in-github",
        "colab_type": "text"
      },
      "source": [
        "<a href=\"https://colab.research.google.com/github/SolidusStrange/Matematica-Aplicada/blob/main/G3_Aplicaciones_de_funciones.ipynb\" target=\"_parent\"><img src=\"https://colab.research.google.com/assets/colab-badge.svg\" alt=\"Open In Colab\"/></a>"
      ]
    },
    {
      "cell_type": "markdown",
      "source": [
        "# Problema 1"
      ],
      "metadata": {
        "id": "WrEw6j45Ji8L"
      }
    },
    {
      "cell_type": "markdown",
      "source": [
        "Sean las funciones:\n",
        "\n",
        "\\begin{split}\n",
        "r(x) & = -1,5x^{2} + 11,5x - 15\\\\\n",
        "g(x) & = 1,58x^{4} - 19,17x^{3} + 80,92x^{2} - 139,33x + 85\n",
        "\\end{split}\n",
        "\n",
        "<br>\n",
        "\n",
        "Considerando que $\\hspace{0.2cm}$ $0 \\leq x \\leq 6$, $\\hspace{0.3cm}$  $-10 \\leq y \\leq 10$ $\\hspace{0.2cm}$ realice lo siguiente:\n",
        "\n",
        "1. Grafique ambas funciones considerando el dominio indicado. Sugerencia: utilice *plt.xlim()* y *plt.ylim()* para definir los límites de los ejes en el gráfico.\n",
        "2. ¿Cuáles son los puntos de intersección entre las funciones? Utilice *fsolve* para encontrar las soluciones."
      ],
      "metadata": {
        "id": "IeZpXBpxT02T"
      }
    },
    {
      "cell_type": "markdown",
      "source": [
        "# Problema 2"
      ],
      "metadata": {
        "id": "xh_VHJd9gNnb"
      }
    },
    {
      "cell_type": "markdown",
      "source": [
        "Sean las funciones:\n",
        "\n",
        "\\begin{split}\n",
        "h(x) & = 2(x - 2)^{2}\\\\\n",
        "i(x) & = x + 1\n",
        "\\end{split}\n",
        "\n",
        "<br>\n",
        "\n",
        "1. Grafique ambas funciones en un mismo gráfico utilizando *Matplotlib*.\n",
        "2. ¿En qué punto(s) interseca la función $h(x)$ al eje $x$? ¿y la función $i(x)$?\n",
        "3. ¿Las gráficas de las funciones se intersecan en algún punto?\n",
        "4. ¿Para qué valores de $x$ ocurre que $h(x) \\leq i(x)$?\n",
        "5. Determine el punto en que $h(x) = 50$.\n"
      ],
      "metadata": {
        "id": "J9_SEnAZgPtk"
      }
    },
    {
      "cell_type": "markdown",
      "source": [
        "# Problema 3"
      ],
      "metadata": {
        "id": "5yoE5Ef-MVXZ"
      }
    },
    {
      "cell_type": "markdown",
      "source": [
        "Sean las funciones:\n",
        "\n",
        "\\begin{split}\n",
        "w(x) & = 0,6x^{2} + 1,5\\\\\n",
        "t(x) & = 0,8x^{3} - 10x + 10\n",
        "\\end{split}\n",
        "\n",
        "<br>\n",
        "\n",
        "Considerando que $\\hspace{0.2cm}$ $-3 \\leq x \\leq 4$, $\\hspace{0.2cm}$ $-4 \\leq y \\leq 24$ $\\hspace{0.2cm}$ realice lo siguiente:\n",
        "\n",
        "1. Grafique ambas funciones en un mismo gráfico, indicando unidad de medida. Utilice *Matplotlib*.\n",
        "2. Determine el intervalo en que $w(x) \\geq t(x)$.\n",
        "3. Encuentre los puntos en que $t(x) = 6$.\n"
      ],
      "metadata": {
        "id": "ILXplVgzNRDn"
      }
    },
    {
      "cell_type": "markdown",
      "source": [
        "# Problema 4"
      ],
      "metadata": {
        "id": "uDscMY6O1gj0"
      }
    },
    {
      "cell_type": "markdown",
      "source": [
        "Suponga que está trabajando en un proyecto de análisis demográfico para estimar el crecimiento poblacional en diferentes países usando modelos matemáticos.\n",
        "\n",
        "De acuerdo a los datos recopilados las siguientes funciones modelan la población de Chile, Ecuador y Honduras (en miles de habitantes), donde $x$ corresponde al tiempo transcurrido (en años) desde el inicio de $1.960$. Suponga, además, que estos modelos son válidos solo hasta el inicio del año $2.023$.\n",
        "\n",
        "<br>\n",
        "\n",
        "Chile:\n",
        "\n",
        "$$C(x)=19.493e^{0,01x}$$\n",
        "\n",
        "Ecuador:\n",
        "\n",
        "$$E(x)=17.575e^{0,012x}$$\n",
        "\n",
        "Honduras:\n",
        "\n",
        "$$H(x)=10.117e^{0,015x}$$\n",
        "\n",
        "<br>\n",
        "\n",
        "1. ¿Para cuáles valores de $x$ las funciones $D$, $E$ y $H$ modelan el problema?\n",
        "2. Grafique las funciones en un mismo gráfico, indicando unidad de medida y título del gráfico. Utilice la biblioteca *Matplotlib*.\n",
        "3. Según los modelos ¿qué país tiene mayor población a inicios de $1.960$? Indique la población del país a inicios de $1.960$.\n",
        "4. Utilice la función *def* de *Python*, para calcular la población estimada para cada país en el año $2.000$.\n",
        "5. Calcule desde qué año se espera que la población de Ecuador supere a la de Chile.\n",
        "6. Determine en qué año la población de Honduras y Chile es la misma. Analice el valor obtenido considerando el dominio contextualizado."
      ],
      "metadata": {
        "id": "trfNqDnr1hTB"
      }
    },
    {
      "cell_type": "markdown",
      "source": [
        "# Problema 5"
      ],
      "metadata": {
        "id": "lioTvnK7dpDb"
      }
    },
    {
      "cell_type": "markdown",
      "source": [
        "Te contrataron como asesor en una campaña de marketing digital y necesitas equilibrar el ingreso por ventas con los costos de inversión.\n",
        "\n",
        "Las funciones de ingresos por ventas $I(x)$ y costos de inversión $C(x)$ (ambas en miles de pesos) son:\n",
        "\n",
        "<br>\n",
        "\n",
        "$$I(x) = - 20x + 1.000$$\n",
        "\n",
        "$$C(x) = 200x + 500$$\n",
        "\n",
        "<br>\n",
        "\n",
        "Donde $x$ corresponde al tiempo transcurrido desde que se inició la campaña (en semanas).\n",
        "\n",
        "<br>\n",
        "\n",
        "1. Analice el comportamiento del ingreso por ventas y del costo de inversión a medida que aumenta el tiempo desde que se inició la campaña. Considere la pendiente y el intercepto de cada función para realizar el análisis.\n",
        "2. Grafique ambas funciones en un mismo gráfico, indicando nombre\n",
        "de los ejes. Utilice *Matplotlib*.\n",
        "3. Determine, utilizando *Python*, el punto de equilibrio entre ambas funciones e interprete el resultado.\n",
        "4. Utilizando el gráfico y lo realizado en el punto $3$, ¿qué puedes concluir? ¿Aconsejarías mantener la campaña transcurridas $5$ semanas desde el inicio de la campaña?"
      ],
      "metadata": {
        "id": "FJcSAoz7Rqmi"
      }
    },
    {
      "cell_type": "code",
      "source": [
        "import numpy as np\n",
        "import matplotlib.pyplot as plt\n",
        "from scipy.optimize import fsolve\n"
      ],
      "metadata": {
        "id": "Y9EbzZ6Pya96"
      },
      "execution_count": 1,
      "outputs": []
    },
    {
      "cell_type": "markdown",
      "source": [
        "1. I(x) tiene una pendiente negativa por lo tanto es decreciente y el ingreso disminuye en 20.000 y el ingreso inicial es de 1.000.000 pesos.\n",
        "C(x) tiene una pendiente positiva por lo tanto es creciente y el ingreso aumenta en 200.000 y el ingreso inicial es de 500.000 pesos.\n"
      ],
      "metadata": {
        "id": "B4oEti1yxOhK"
      }
    },
    {
      "cell_type": "code",
      "source": [
        "#2 Graficar\n",
        "def I(x):\n",
        "  return -20 * x + 1000\n",
        "\n",
        "def C(x):\n",
        "  return 200 * x + 500\n",
        "\n",
        "x = np.arange(0, 15, 0.1)\n",
        "\n",
        "plt.plot(x, I(x), label= \"Ingreso\")\n",
        "plt.plot(x, C(x), label= \"Costo\")\n",
        "plt.legend()\n",
        "plt.title(\"Campaña de Marketing\")\n",
        "plt.axis([0, 6, 0 , 2000])\n",
        "plt.grid(True)\n",
        "plt.show()\n"
      ],
      "metadata": {
        "colab": {
          "base_uri": "https://localhost:8080/",
          "height": 452
        },
        "id": "VbVKizDbwJEa",
        "outputId": "11fa9c10-566b-4ed6-b7dd-c48e8a48039b"
      },
      "execution_count": 12,
      "outputs": [
        {
          "output_type": "display_data",
          "data": {
            "text/plain": [
              "<Figure size 640x480 with 1 Axes>"
            ],
            "image/png": "[encoded data removed]"
          },
          "metadata": {}
        }
      ]
    },
    {
      "cell_type": "code",
      "source": [
        "# 3. Punto de equilibrio\n",
        "def I(x):\n",
        "  return -20 * x + 1000\n",
        "\n",
        "def C(x):\n",
        "  return 200 * x + 500\n",
        "\n",
        "def inter(x):\n",
        "  return I(x) - C(x)\n",
        "\n",
        "x = np.linspace(2, 3, 10)\n",
        "solu=np.around(fsolve(inter,x),decimals=1)\n",
        "soluf=np.unique(solu)\n",
        "print(f\"El punto de equilibrio ocurre a las {soluf} semanas\")\n",
        "print(f\"A las {solu[0]} semanas el costo e ingreso será de {C(solu[0]):.0f} miles de pesos\")\n"
      ],
      "metadata": {
        "colab": {
          "base_uri": "https://localhost:8080/"
        },
        "id": "BiaqjuWp1KeA",
        "outputId": "2786063e-fd58-4b5d-8fcb-2755edc96437"
      },
      "execution_count": 29,
      "outputs": [
        {
          "output_type": "stream",
          "name": "stdout",
          "text": [
            "El punto de equilibrio ocurre a las [2.3] semanas\n",
            "A las 2.3 semanas el costo e ingreso será de 960 miles de pesos\n"
          ]
        }
      ]
    },
    {
      "cell_type": "code",
      "source": [
        "# 4. Utilizando gráfico"
      ],
      "metadata": {
        "id": "WTwfzk8G3uUp"
      },
      "execution_count": null,
      "outputs": []
    },
    {
      "cell_type": "markdown",
      "source": [
        "# Problema 6"
      ],
      "metadata": {
        "id": "DjmTls3Lqjrl"
      }
    },
    {
      "cell_type": "markdown",
      "source": [
        "Eres responsable de una granja de servidores, y necesitas optimizar la energía utilizada $E(x)$ (en kWh), en función de la cantidad de servidores activos $x$. Luego de varias mediciones y tratamiento de datos encuentras que la función que modela la relación entre ambas variables es:\n",
        "\n",
        "$$E(x) = 200 \\sqrt x + 500$$\n",
        "\n",
        "<br>\n",
        "\n",
        "1. Define variable dependiente e independiente, indicando unidad de medida.\n",
        "2. Grafica la función utilizando *Matplotlib*.\n",
        "3. Determina la energía utilizada cuando hay $25$ servidores activos.\n",
        "4. Encuentra el número máximo de servidores activos para que la energía no supere los $1.900$ kWh. Utiliza *Python* para calcular."
      ],
      "metadata": {
        "id": "_T0PH3uJqpxC"
      }
    },
    {
      "cell_type": "markdown",
      "source": [
        "# Problema 7"
      ],
      "metadata": {
        "id": "tgFgvpI2gUZK"
      }
    },
    {
      "cell_type": "markdown",
      "source": [
        "Te contrataron para realizar una optimización de una plataforma de streaming. Debes determinar donde se equilibran los ingresos por suscripciones con los costos de operación\n",
        "\n",
        "Las funciones de ingresos por suscriptores $I(x)$ y costos de operación $C(x)$ (ambos en miles de pesos) son:\n",
        "\n",
        "<br>\n",
        "\n",
        "$$I(x) = 10x^{2} + 50x$$\n",
        "\n",
        "$$C(x) = 5x^{2} + 80x + 100$$\n",
        "\n",
        "<br>\n",
        "\n",
        "Donde $x$ corresponde al número de suscriptores (en miles).\n",
        "\n",
        "<br>\n",
        "\n",
        "1. Debes determinar dónde se equilibran los ingresos por suscripciones con los costos de operación.\n",
        "2. Analice en qué tramo los costos de operación son mayores que los ingresos por suscriptores."
      ],
      "metadata": {
        "id": "xVMV5DMOhH4B"
      }
    },
    {
      "cell_type": "code",
      "source": [
        "def I(x):\n",
        "  return 10*x**2 + 50*x\n",
        "\n",
        "def C(x):\n",
        "  return 5*x**2 + 80*x + 100\n",
        "\n",
        "x=np.arange(-50, 100, 0.1)\n",
        "\n",
        "plt.plot(x,I(x), label=\"I(x)\")\n",
        "plt.plot(x,C(x), label=\"C(x)\")\n",
        "plt.legend()\n",
        "plt.axis([-5, 10 , -500, 1500])\n",
        "plt.grid(True)\n",
        "plt.show()"
      ],
      "metadata": {
        "colab": {
          "base_uri": "https://localhost:8080/",
          "height": 435
        },
        "id": "sG1hcqkw6ULf",
        "outputId": "316ca711-746a-4326-a6ea-e6e87c7f5391"
      },
      "execution_count": 61,
      "outputs": [
        {
          "output_type": "display_data",
          "data": {
            "text/plain": [
              "<Figure size 640x480 with 1 Axes>"
            ],
            "image/png": "[encoded data removed]"
          },
          "metadata": {}
        }
      ]
    },
    {
      "cell_type": "code",
      "source": [
        "def I(x):\n",
        "  return 10*x**2 + 50*x\n",
        "\n",
        "def C(x):\n",
        "  return 5*x**2 + 80*x + 100\n",
        "\n",
        "def inter(x):\n",
        "  return I(x) - C(x)\n",
        "\n",
        "x=np.linspace(0, 100, 30)\n",
        "solu= np.around(fsolve(inter, x), decimals=1)\n",
        "soluf = np.unique(solu)\n",
        "print(f\"El punto de equilibrio ocurre a las {solu[1]} suscriptores (en miles)\")\n",
        "print(f\"El costo y el ingreso a los {soluf[1]} miles suscriptores será de {C(soluf[1])} miles de pesos\")"
      ],
      "metadata": {
        "colab": {
          "base_uri": "https://localhost:8080/"
        },
        "id": "KfqYSBeK5K6Y",
        "outputId": "2aa4109b-0d29-429b-b7aa-b056f4ac064f"
      },
      "execution_count": 63,
      "outputs": [
        {
          "output_type": "stream",
          "name": "stdout",
          "text": [
            "El punto de equilibrio ocurre a las 8.4 suscriptores (en miles)\n",
            "El costo y el ingreso a los 8.4 miles suscriptores será de 1124.8 miles de pesos\n"
          ]
        }
      ]
    },
    {
      "cell_type": "markdown",
      "source": [
        "# Problema 8"
      ],
      "metadata": {
        "id": "1qGCsSbPkOXK"
      }
    },
    {
      "cell_type": "markdown",
      "source": [
        "Constanza es agente inmobiliario, el sueldo en su actual trabajo depende de la cantidad de casas vendidas, le pagan $\\$600.000$ de sueldo base, más una comisión del $5\\%$ por cada casa vendida. Lo anterior puede modelarse mediante la función $S_{actual}(x)$ (en miles de pesos):\n",
        "\n",
        "<br>\n",
        "\n",
        "$$S_{actual}(x) = 600 \\cdot 1,05^{x}$$\n",
        "\n",
        "<br>\n",
        "\n",
        "donde $x$ corresponde a la cantidad de casas vendidas durante el mes. Debido al aumento en el costo de la vida, necesita aumentar sus ingresos. Luego de postular a varios trabajos, recibió una oferta laboral donde le ofrecen un sueldo base de $\\$500.000$ más una comisión de venta del $7\\%$ por cada casa vendida.\n",
        "\n",
        "<br>\n",
        "\n",
        "Considerando el contexto anterior encuentre:\n",
        "\n",
        "1. La forma algebraica que modela el sueldo mensual de la oferta recibida.\n",
        "2. Grafique ambas funciones usando *Matplotlib*. Considera que vende un máximo de $30$ casas mensuales.\n",
        "3. Si tuvieras que aconsejar a Constanza, ¿le recomendarías que tome la oferta o que se mantenga en su actual trabajo? Justifica matemáticamente."
      ],
      "metadata": {
        "id": "MdLntGOMkS09"
      }
    },
    {
      "cell_type": "markdown",
      "source": [
        "# Problema 9"
      ],
      "metadata": {
        "id": "1oJal7TJxCmN"
      }
    },
    {
      "cell_type": "markdown",
      "source": [
        "En un laboratorio de biología marina, los científicos están estudiando el crecimiento de dos especies de algas en función de la luz solar recibida. Las funciones $f(x)$ y $g(x)$, que describen la tasa de crecimiento de las algas en milímetros por día (mm/día) son:\n",
        "\n",
        "<br>\n",
        "\n",
        "$$f(x) = \\sqrt{500 x + 2.000}$$\n",
        "\n",
        "<br>\n",
        "\n",
        "$$g(x) = \\sqrt{800 x + 1.000}$$\n",
        "\n",
        "<br>\n",
        "\n",
        "donde $x$ corresponde a la intensidad de la luz (en lux).\n",
        "\n",
        "<br>\n",
        "\n",
        "1. Determina el punto en el que ambas especies de algas tienen la misma tasa de crecimiento. Además, calcula la tasa de crecimiento en ese punto. Visualiza apropiadamente.\n",
        "2. Considerando lo obtenido en el ítem anterior, analice y compare el crecimiento de las dos especies en función de la intensidad de la luz."
      ],
      "metadata": {
        "id": "U7SRRF2yx7vr"
      }
    },
    {
      "cell_type": "markdown",
      "source": [
        "# Problema 10"
      ],
      "metadata": {
        "id": "L-vvK-m28v9E"
      }
    },
    {
      "cell_type": "markdown",
      "source": [
        "En una planta de tratamiento de aguas residuales, los ingenieros están estudiando la eficiencia, medida en porcentaje, de dos diferentes procesos de filtración para eliminar contaminantes. La eficiencia de cada proceso varía en función del tiempo de tratamiento, $t$, medido en horas.\n",
        "\n",
        "Las funciones que describen la eficiencia de los procesos son las siguientes:\n",
        "\n",
        "Proceso A:\n",
        "\n",
        " $$A(t) = 1,4t^{4} - 2,55t^{3} - 3,37t^{2} + 2,75t + 10$$\n",
        "\n",
        "Proceso B:\n",
        "\n",
        " $$B(t) = t^{4} -2,67t^{3} - t^{2} + 2t + 20$$\n",
        "\n",
        " <br>\n",
        "\n",
        "1. Grafique ambas funciones indicando el nombre de cada eje coordenado, junto con su unidad de medida. Utilice *Matplotlib*.\n",
        "2. Transcurridas $3$ horas y media, ¿qué porcentaje de eficiencia tiene el proceso A? ¿Y el B?\n",
        "3. ¿Para cuántas horas transcurridas el proceso A tiene la misma eficiencia que el proceso B? Indique la eficiencia en este punto.\n",
        "4. Si sabe que los procesos demoran como máximo $5$ horas, analice cuándo es conveniente aplicar el proceso A."
      ],
      "metadata": {
        "id": "hsuqlbDk83rb"
      }
    },
    {
      "cell_type": "markdown",
      "source": [
        "# Problema 11"
      ],
      "metadata": {
        "id": "L4EN4MCYDwfH"
      }
    },
    {
      "cell_type": "markdown",
      "source": [
        "Sea la función $f$, definida por:\n",
        "\n",
        "<br>\n",
        "\n",
        "$$f(x) = \\begin{cases}\n",
        "          & 2 - x  &\\text{si } x < 1 \\\\\n",
        "          & 3      &\\text{si } x\\geq 1\n",
        "\\end{cases} $$\n",
        "\n",
        "<br>\n",
        "\n",
        "1. Describa el comportamiento del gráfico de la función.\n",
        "2. ¿Cuál es el valor de $f(x)$ si $x = -5$? ¿Y si $x = 5$?\n"
      ],
      "metadata": {
        "id": "xPF_RpFtEYjX"
      }
    },
    {
      "cell_type": "markdown",
      "source": [
        "# Problema 12"
      ],
      "metadata": {
        "id": "Wvdml6-MEGnW"
      }
    },
    {
      "cell_type": "markdown",
      "source": [
        "Un hotel del sur de Chile cobra $\\$70.000$ por noche para las tres primeras noches, y $\\$54.000$ por cada noche adicional. El costo total de alojamiento $T$ es una función que depende del número de noches $x$ que permanece un huésped.\n",
        "\n",
        "<br>\n",
        "\n",
        "1. Complete la siguiente tabla, indicando los valores de $T(x)$ para la cantidad de noches indicada. *Para completar la tabla, haga doble clic en la celda de texto y anote los valores entre los signos $\\$\\$$ de la tabla*.\n",
        "\n",
        "<p><center>\n",
        "\n",
        "|    $x$   |         $T(x) $           |\n",
        "|----------|---------------------------|\n",
        "|$$ 0 $$   | $$          $$            |\n",
        "|$$ 1 $$   | $$          $$            |\n",
        "|$$ 2 $$   | $$          $$            |\n",
        "|$$ 3 $$   | $$          $$            |\n",
        "|$$ 4 $$   | $$          $$            |\n",
        "|$$ 5 $$   | $$          $$            |\n",
        "|$$ 6 $$   | $$          $$            |\n",
        "|$$ 7 $$   | $$          $$            |\n",
        "\n",
        "</center></p>\n",
        "\n",
        "<br>\n",
        "\n",
        "2. Complete la forma algebráica de la función $T(x)$, definida por partes:\n",
        "\n",
        "<br>\n",
        "\n",
        "$$T(x) = \\begin{cases}\n",
        "          &                  &\\text{si } &0 \\leq x \\leq 3 \\\\\n",
        "          &                  &\\text{si } &x > 3\n",
        "\\end{cases} $$\n",
        "\n",
        "<br>\n",
        "\n",
        "*Complete la función haciendo doble clic en la celda de texto y escribiendo en el espacio en blanco entre los dos signos \"&\".*\n",
        "\n",
        "3. ¿En qué tramo aumenta con mayor rapidez? Justifique graficamente."
      ],
      "metadata": {
        "id": "33V-YceJT2Zf"
      }
    }
  ]
}