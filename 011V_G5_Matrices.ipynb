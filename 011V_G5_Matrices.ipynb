{
  "nbformat": 4,
  "nbformat_minor": 0,
  "metadata": {
    "colab": {
      "provenance": [],
      "include_colab_link": true
    },
    "kernelspec": {
      "name": "python3",
      "display_name": "Python 3"
    },
    "language_info": {
      "name": "python"
    }
  },
  "cells": [
    {
      "cell_type": "markdown",
      "metadata": {
        "id": "view-in-github",
        "colab_type": "text"
      },
      "source": [
        "<a href=\"https://colab.research.google.com/github/SolidusStrange/Matematica-Aplicada/blob/main/011V_G5_Matrices.ipynb\" target=\"_parent\"><img src=\"https://colab.research.google.com/assets/colab-badge.svg\" alt=\"Open In Colab\"/></a>"
      ]
    },
    {
      "cell_type": "code",
      "source": [
        "import numpy as np"
      ],
      "metadata": {
        "id": "0T5XO7ofHiWn"
      },
      "execution_count": 2,
      "outputs": []
    },
    {
      "cell_type": "markdown",
      "source": [
        "# Problema 1"
      ],
      "metadata": {
        "id": "UCCOMbmnLfHY"
      }
    },
    {
      "cell_type": "markdown",
      "source": [
        "Las matrices $A$ y $B$ representan las ventas en dos años, en millones de dólares, de los tres productos de una empresa en las cuatro regiones en que está disponible. Es decir, $a_{ij}$ y $b_{ij}$ representan el monto de las ventas del producto $i$ en la región $j$ el primer y segundo año, respectivamente:\n",
        "\n",
        "<br>\n",
        "\n",
        "\\begin{split}\n",
        "A = \\begin{pmatrix}\n",
        " 2,6 &  4,8 &  1,8 & 0,9 \\\\\n",
        " 3,2 &  4,4 &  2,5 & 2,8 \\\\\n",
        " 2,4 &  3,6 &  3,8 & 2,5 \\\\\n",
        "\\end{pmatrix} \\text{ } B= \\begin{pmatrix}\n",
        " 3,6 &  2,5 &  3,0 & 2,5 \\\\\n",
        " 4,5 &  5,0 &  3,5 & 3,8 \\\\\n",
        " 2,9 &  3,0 &  4,6 & 4,0 \\\\\n",
        "\\end{pmatrix}\n",
        "\\end{split}\n",
        "\n",
        "<br>\n",
        "\n",
        "1. Indique el orden de cada matriz.\n",
        "2. Calcule la matriz $S = A + B$.\n",
        "3. Calcule la matriz $D = B - A$.\n",
        "4. Indique el valor e interprete los elementos $s_{24}$ y $d_{24}$.\n",
        "5. Para el tercer año de funcionamiento, los tres productos ahora están disponibles en seis regiones. Durante este año, las ventas de esta empresa estarán registradas en una matriz $E$. ¿Es posible determinar la matriz $T = A + B + E$? Justifique su respuesta."
      ],
      "metadata": {
        "id": "AHPLM97ONSwR"
      }
    },
    {
      "cell_type": "markdown",
      "source": [
        "1)\n",
        "\n",
        "Matriz A 3 x 4\n",
        "\n",
        "Matriz B 3 x 4"
      ],
      "metadata": {
        "id": "YG2qbmXJHSGg"
      }
    },
    {
      "cell_type": "code",
      "source": [
        "#pregunta 2\n",
        "A=np.array([[2.6,4.8,1.8,0.9],\n",
        "            [3.2,4.4,2.5,2.8],\n",
        "            [2.4,3.6,3.8,2.5]])\n",
        "B=np.array([[3.6,2.5,3.0,2.5],\n",
        "            [4.5,5.0,3.5,3.8],\n",
        "            [2.9,3.0,4.6,4.0]])\n",
        "\n",
        "S=A+B\n",
        "print(f\"2) La matriz S es:\\n{S}\")\n",
        "\n",
        "#pregunta 3\n",
        "D=B-A\n",
        "print(f\"\\n3) La matriz D es:\\n{D}\")\n",
        "\n",
        "#Pregunta 4\n",
        "print(\"\\n4) s24= 6.6, Indica que la ganancia total de los dos años del producto 2 en la región 4 es de 6.6 millones de dólares\")\n",
        "print(\"4) d24=1, indica que el año 2, la ganancia del producto 2 en la región 4 fue de 1 millón de dólares más que el año anterior\")\n",
        "print(\"\\n5) No se puede, debido que para poder sumar deben tener todas el mismo orden\")"
      ],
      "metadata": {
        "colab": {
          "base_uri": "https://localhost:8080/"
        },
        "id": "DcuvoPoFHm9e",
        "outputId": "9e3de422-caf8-429e-c73c-ff8ef15bf453"
      },
      "execution_count": null,
      "outputs": [
        {
          "output_type": "stream",
          "name": "stdout",
          "text": [
            "2) La matriz S es:\n",
            "[[6.2 7.3 4.8 3.4]\n",
            " [7.7 9.4 6.  6.6]\n",
            " [5.3 6.6 8.4 6.5]]\n",
            "\n",
            "3) La matriz D es:\n",
            "[[ 1.  -2.3  1.2  1.6]\n",
            " [ 1.3  0.6  1.   1. ]\n",
            " [ 0.5 -0.6  0.8  1.5]]\n",
            "\n",
            "4) s24= 6.6, Indica que la ganancia total de los dos años del producto 2 en la región 4 es de 6.6 millones de dólares\n",
            "4) d24=1, indica que el año 2, la ganancia del producto 2 en la región 4 fue de 1 millón de dólares más que el año anterior\n",
            "\n",
            "5) No se puede, debido que para poder sumar deben tener todas el mismo orden\n"
          ]
        }
      ]
    },
    {
      "cell_type": "markdown",
      "source": [
        "# Problema 2"
      ],
      "metadata": {
        "id": "MdVDj7xheCLm"
      }
    },
    {
      "cell_type": "markdown",
      "source": [
        "Una fábrica con sucursales en Japón y China, produce tres tipos de componentes $j$, para cinco modelos de computador $i$. Los costos de producción mensual, en miles de dólares, de ambas sucursales se representan en las matrices $J$ y $C$, respectivamente:\n",
        "\n",
        "<br>\n",
        "\n",
        "\\begin{split}\n",
        "J = \\begin{pmatrix}\n",
        " 100 &  200 &  150  \\\\\n",
        " 120 &  210 &  170  \\\\\n",
        " 112 &  200 &  131  \\\\\n",
        " 124 &  310 &  170  \\\\\n",
        " 136 &  156 &  140  \\\\\n",
        "\\end{pmatrix} \\text{ } C = \\begin{pmatrix}\n",
        " 110 &  190 &  160  \\\\\n",
        " 130 &  220 &  180  \\\\\n",
        " 146 &  190 &  141  \\\\\n",
        " 143 &  312 &  163  \\\\\n",
        " 137 &  116 &  156  \\\\\n",
        "\\end{pmatrix}\n",
        "\\end{split}\n",
        "\n",
        "<br>\n",
        "\n",
        "1. ¿Cuál es el orden de las matrices?\n",
        "2. Inteprete el elemento $j_{21}$ y $c_{12}$ en el contexto del problema.\n",
        "3. Utilizando *Python*, calcule el costo total de producción para cada modelo, considerando ambas sucursales.\n",
        "4. Un trabajador indica que, en la sucursal japonesa, el costo de producción del producto $3$, modelo $4$ de computador, es más alto que en la sucursal china. ¿Tiene razón? Justifique apropiadamente."
      ],
      "metadata": {
        "id": "CGrP79UpeM6k"
      }
    },
    {
      "cell_type": "code",
      "source": [
        "# PREGUNTA 1\n",
        "# i = filas, j = columnas\n",
        "# P1 | P2 | P3|\n",
        "# M1\n",
        "# M2\n",
        "# M3"
      ],
      "metadata": {
        "id": "4bH8v2B6gpa6"
      },
      "execution_count": null,
      "outputs": []
    },
    {
      "cell_type": "code",
      "source": [],
      "metadata": {
        "id": "Xjo1qS5rg3if"
      },
      "execution_count": null,
      "outputs": []
    },
    {
      "cell_type": "code",
      "source": [
        "#pregunta 1\n",
        "print(\"1) El orden de las matrices es 5 x 3\\n\")\n",
        "\n",
        "#pregunta 2\n",
        "print(\"2a) El elemento j21 es 120, Indica que en la planta japonesa, el costo de producción mensual del componente  1  para el modelo de computador  2 , es  120  miles de dólares \")\n",
        "print(\"2b) El elemento c12 es 190, Indica que en la planta china, el costo de producción mensual del componente  2  para el modelo de computador  1 , es  190  miles de dólares.\\n\")\n",
        "\n",
        "#pregunta 3\n",
        "\n",
        "J = np.array([[100, 200, 150],\n",
        "              [120, 210, 170],\n",
        "              [112, 200, 131],\n",
        "              [124, 310, 170],\n",
        "              [136, 156, 140]])\n",
        "\n",
        "C = np.array([[110, 190, 160],\n",
        "              [130, 220, 180],\n",
        "              [146, 190, 141],\n",
        "              [143, 312, 163],\n",
        "              [137, 116, 156]])\n",
        "\n",
        "T = J + C\n",
        "print(f\"3) El costo total de producción de la fabrica es:\\n{T}\")\n",
        "\n",
        "#pregunta 4\n",
        "print(\"\\n4) Es correcto lo que indica el trabajador, ya que el costo de producción mensual del componente  3  para el modelo  4  de computador es  170  mil dólares en la planta japonesa, mientras que en la planta china es  163  mil dólares. Por lo que es  7  mil dólares más caro en la planta japonesa.\")"
      ],
      "metadata": {
        "id": "FagfzTqYfMMA",
        "outputId": "fe7f3495-68ba-4863-e3f7-9455832c074a",
        "colab": {
          "base_uri": "https://localhost:8080/"
        }
      },
      "execution_count": null,
      "outputs": [
        {
          "output_type": "stream",
          "name": "stdout",
          "text": [
            "1) El orden de las matrices es 5 x 3\n",
            "\n",
            "2a) El elemento j21 es 120, Indica que en la planta japonesa, el costo de producción mensual del componente  1  para el modelo de computador  2 , es  120  miles de dólares \n",
            "2b) El elemento c12 es 190, Indica que en la planta china, el costo de producción mensual del componente  2  para el modelo de computador  1 , es  190  miles de dólares.\n",
            "\n",
            "3) El costo total de producción de la fabrica es:\n",
            "[[210 390 310]\n",
            " [250 430 350]\n",
            " [258 390 272]\n",
            " [267 622 333]\n",
            " [273 272 296]]\n",
            "\n",
            "4) Es correcto lo que indica el trabajador, ya que el costo de producción mensual del componente  3  para el modelo  4  de computador es  170  mil dólares en la planta japonesa, mientras que en la planta china es  163  mil dólares. Por lo que es  7  mil dólares más caro en la planta japonesa.\n"
          ]
        }
      ]
    },
    {
      "cell_type": "markdown",
      "source": [
        "# Problema 3"
      ],
      "metadata": {
        "id": "d1kLjxmU8En9"
      }
    },
    {
      "cell_type": "markdown",
      "source": [
        "La empresa Beta tiene cinco plantas en Chile, y en cada una de ellas fabrica siete productos. El número de unidades del producto $i$ fabricadas en la planta $j$ en una semana está representado en la matriz $C$ en el elemento $c_{ij}$.\n",
        "\n",
        "<br>\n",
        "\n",
        "\\begin{split}\n",
        "C = \\begin{pmatrix}\n",
        " 120 &  200 &  155 &  125  &  230 \\\\\n",
        " 155 &  130 &  110 &  160  &  180 \\\\\n",
        " 140 &  205 &  150 &  125  &  155 \\\\\n",
        " 130 &  120 &  230 &  225  &  125 \\\\\n",
        " 135 &  70  &  190 &  175  &  95  \\\\\n",
        " 110 &  265 &  180 &  230  &  180 \\\\\n",
        " 185 &  85  &  120 &  135  &  150 \\\\\n",
        "\\end{pmatrix}\n",
        "\\end{split}\n",
        "\n",
        "<br>\n",
        "\n",
        "La empresa se expande, creando cinco plantas en Ecuador que producen los mismos siete productos. La producción semanal de esta filial estará representada por una matriz $E$.\n",
        "\n",
        "1. Si se sabe que los volúmenes de producción semanal de la filial en Ecuador son un $20\\%$ menor que en Chile, calcule la matriz $E$ utilizando *Python*.\n",
        "2. Si representamos la producción semanal total de la empresa Beta, considerando ambas filiales, por la matriz $T$, escriba la expresión que calcula cada elemento de la matriz $T$ usando notación matricial.\n",
        "3. Calcule la matriz $T$ utilizando *Python*.\n",
        "4. Interprete los elementos $c_{34}$ y $t_{72}$ en el contexto del problema."
      ],
      "metadata": {
        "id": "kpido2Zy8zg0"
      }
    },
    {
      "cell_type": "code",
      "source": [
        "    #pl1 pl2 pl3 pl4 i = filas, j = columnas\n",
        "#p1\n",
        "#p2\n",
        "#p3\n",
        "#p4"
      ],
      "metadata": {
        "id": "xBMZ_WHLil4Q"
      },
      "execution_count": 3,
      "outputs": []
    },
    {
      "cell_type": "code",
      "source": [
        "# Pregunta 1\n",
        "C = np.array(\n",
        "    [[120, 200, 155, 125, 230],\n",
        "    [155, 130, 110, 160, 180],\n",
        "    [140, 205, 150, 125, 155],\n",
        "    [130, 120, 230, 225, 125],\n",
        "    [135, 70, 190, 175, 95],\n",
        "    [110, 265, 180, 230, 180],\n",
        "    [185, 85, 120, 135, 150]])\n",
        "\n",
        "E = 0.8*C\n",
        "print(f\"1) La matriz E es: \\n{E}\")\n"
      ],
      "metadata": {
        "id": "tkObNmsui2OR",
        "outputId": "affd6540-b691-499f-827a-740f728b489c",
        "colab": {
          "base_uri": "https://localhost:8080/"
        }
      },
      "execution_count": 11,
      "outputs": [
        {
          "output_type": "stream",
          "name": "stdout",
          "text": [
            "1) La matriz E es: \n",
            "[[ 96. 160. 124. 100. 184.]\n",
            " [124. 104.  88. 128. 144.]\n",
            " [112. 164. 120. 100. 124.]\n",
            " [104.  96. 184. 180. 100.]\n",
            " [108.  56. 152. 140.  76.]\n",
            " [ 88. 212. 144. 184. 144.]\n",
            " [148.  68.  96. 108. 120.]]\n"
          ]
        }
      ]
    },
    {
      "cell_type": "code",
      "source": [
        "# Pregunta 2\n",
        "print(\"La notación matricial t_ij = c_ij + e_ij\")"
      ],
      "metadata": {
        "id": "TYQSEmDrlfM9",
        "outputId": "d1ad6341-0300-4ca4-9807-572d6eb31f69",
        "colab": {
          "base_uri": "https://localhost:8080/"
        }
      },
      "execution_count": 12,
      "outputs": [
        {
          "output_type": "stream",
          "name": "stdout",
          "text": [
            "La notación matricial t_ij = c_ij + e_ij\n"
          ]
        }
      ]
    },
    {
      "cell_type": "code",
      "source": [
        "# Pregunta 3\n",
        "T = C + E\n",
        "print(f\"La matriz corresponde a: \\n{T}\")"
      ],
      "metadata": {
        "id": "FVmM0_g9mVUV",
        "outputId": "d6a3f820-50b9-4548-8e8f-0bfb71619021",
        "colab": {
          "base_uri": "https://localhost:8080/"
        }
      },
      "execution_count": 14,
      "outputs": [
        {
          "output_type": "stream",
          "name": "stdout",
          "text": [
            "La matriz corresponde a: \n",
            "[[216. 360. 279. 225. 414.]\n",
            " [279. 234. 198. 288. 324.]\n",
            " [252. 369. 270. 225. 279.]\n",
            " [234. 216. 414. 405. 225.]\n",
            " [243. 126. 342. 315. 171.]\n",
            " [198. 477. 324. 414. 324.]\n",
            " [333. 153. 216. 243. 270.]]\n"
          ]
        }
      ]
    },
    {
      "cell_type": "code",
      "source": [
        "print(\"4) El elemento c_34 es 125, indice que en Chile se fabricaron 125 productos 3 en la fabrica 4\")\n",
        "print(\"4) El elemento t_72 es 153, indice que en Chile se fabricaron 153 productos 7 en la fabrica 2\")"
      ],
      "metadata": {
        "id": "ptv557HYnMI0",
        "outputId": "9c0cce26-3d6d-4daa-8ec8-46eb2c48e6a3",
        "colab": {
          "base_uri": "https://localhost:8080/"
        }
      },
      "execution_count": 34,
      "outputs": [
        {
          "output_type": "stream",
          "name": "stdout",
          "text": [
            "4) El elemento c_34 es 125, indice que en Chile se fabricaron 125 productos 3 en la fabrica 4\n",
            "4) El elemento t_72 es 153, indice que en Chile se fabricaron 153 productos 7 en la fabrica 2\n"
          ]
        }
      ]
    },
    {
      "cell_type": "code",
      "source": [
        "print(type(T))"
      ],
      "metadata": {
        "id": "Ksn8CO9IrhI3",
        "outputId": "3b8f5e20-3512-4e31-fe06-054fe6d795ab",
        "colab": {
          "base_uri": "https://localhost:8080/"
        }
      },
      "execution_count": 35,
      "outputs": [
        {
          "output_type": "stream",
          "name": "stdout",
          "text": [
            "<class 'list'>\n"
          ]
        }
      ]
    },
    {
      "cell_type": "markdown",
      "source": [
        "# Problema 4"
      ],
      "metadata": {
        "id": "DZh7JytTJKsb"
      }
    },
    {
      "cell_type": "markdown",
      "source": [
        "Una empresa que fabrica zapatos tiene dos plantas, una en Valparaíso y la otra en Temuco. La empresa produce zapatos de color negro, blanco y café, tanto para niños, damas como caballeros. La capacidad actual de producción mensual (en miles de pares) para Valparaíso y Temuco, están dadas por las matrices $V$ y $T$, respectivamente. Para ambas matrices, según el orden en que se mencionan, las filas corresponden al color del calzado y las columnas al tipo de persona que utilizará el calzado.\n",
        "\n",
        "<br>\n",
        "\n",
        "\\begin{split}\n",
        "V = \\begin{pmatrix}\n",
        " 30 &  34 &  20  \\\\\n",
        " 45 &  20 &  16  \\\\\n",
        " 14 &  26 &  25  \\\\\n",
        "\\end{pmatrix} \\text{ } T = \\begin{pmatrix}\n",
        " 35 &  30 &  26  \\\\\n",
        " 52 &  25 &  18  \\\\\n",
        " 23 &  24 &  32  \\\\\n",
        "\\end{pmatrix}\n",
        "\\end{split}\n",
        "\n",
        "<br>\n",
        "\n",
        "1. Determine la producción mensual total de ambas plantas, representándola en una matriz $A$. Utilice *Python* para resolver.\n",
        "2. Interprete el elemento $a_{21}$ en el contexto del problema.\n",
        "3. Si para el próximo año se estima que la producción en Valparaíso aumenta en un $30\\%$, mientras que la de Temuco se reduce en un $10\\%$, represente la nueva producción total en la matriz $B$.\n",
        "4. Interprete el elemento $b_{13}$ en el contexto del problema."
      ],
      "metadata": {
        "id": "biNp7JeIJU2I"
      }
    },
    {
      "cell_type": "code",
      "source": [
        "V = np.array([[30,34,20],\n",
        "              [45,20,16],\n",
        "              [14,26,25]])\n",
        "\n",
        "T = np.array([[35,30,26],\n",
        "              [52,25,18],\n",
        "              [23,24,32]])\n",
        "\n",
        "A = V + T\n",
        "print(f\"La producción mensual total de ambas plantas: \\n{A}\")"
      ],
      "metadata": {
        "id": "9FOhoQMUorKZ",
        "outputId": "f6c675bb-e9e2-4caa-d7df-a0cbb5d43de8",
        "colab": {
          "base_uri": "https://localhost:8080/"
        }
      },
      "execution_count": 3,
      "outputs": [
        {
          "output_type": "stream",
          "name": "stdout",
          "text": [
            "La producción mensual total de ambas plantas \n",
            "[[65 64 46]\n",
            " [97 45 34]\n",
            " [37 50 57]]\n"
          ]
        }
      ]
    },
    {
      "cell_type": "code",
      "source": [
        "print(\"2) La producción total mensual fueron 97000 zapatos blancos para niños\")"
      ],
      "metadata": {
        "id": "sPLjRl0Rr5Xa",
        "outputId": "9ae4d6a1-8257-4e44-ef91-bf3794cf7e27",
        "colab": {
          "base_uri": "https://localhost:8080/"
        }
      },
      "execution_count": 4,
      "outputs": [
        {
          "output_type": "stream",
          "name": "stdout",
          "text": [
            "2) La producción total mensual fueron 97000 zapatos blancos para niños\n"
          ]
        }
      ]
    },
    {
      "cell_type": "code",
      "source": [
        "V2 = V*1.3\n",
        "T2 = T*0.9\n",
        "B = V2 + T2\n",
        "print(f\"La nueva total será de: \\n{B}\")"
      ],
      "metadata": {
        "id": "Kz-Fy7y0ti_G",
        "outputId": "184a8d43-26c6-4aee-ccbb-57339e1210a6",
        "colab": {
          "base_uri": "https://localhost:8080/"
        }
      },
      "execution_count": 5,
      "outputs": [
        {
          "output_type": "stream",
          "name": "stdout",
          "text": [
            "[[ 70.5  71.2  49.4]\n",
            " [105.3  48.5  37. ]\n",
            " [ 38.9  55.4  61.3]]\n"
          ]
        }
      ]
    },
    {
      "cell_type": "code",
      "source": [
        "print(\"4) La producción el segundo será \")"
      ],
      "metadata": {
        "id": "37Ya5VQourX1"
      },
      "execution_count": null,
      "outputs": []
    },
    {
      "cell_type": "markdown",
      "source": [
        "# Problema 5"
      ],
      "metadata": {
        "id": "eqY0UgBhQ1PL"
      }
    },
    {
      "cell_type": "markdown",
      "source": [
        "Genere una matriz $M$ de orden $8 \\times 9$ donde cada término de la matriz está definido por:\n",
        "\n",
        "$$m_{ij} = 8i + 12j$$\n",
        "\n",
        "y calcule su transpuesta."
      ],
      "metadata": {
        "id": "6W2fcVlyU2Ze"
      }
    },
    {
      "cell_type": "code",
      "source": [
        "def fun(i, j):\n",
        "  return 8*(i+1) + 12*(j+1)\n",
        "\n",
        "M = np.fromfunction(fun,(8,9))\n",
        "print(f\"La matriz M es: \\n {M}\")\n"
      ],
      "metadata": {
        "id": "GZMef372vIpL",
        "outputId": "6069040e-5700-4d29-f23b-0383e8befa8b",
        "colab": {
          "base_uri": "https://localhost:8080/"
        }
      },
      "execution_count": 7,
      "outputs": [
        {
          "output_type": "stream",
          "name": "stdout",
          "text": [
            "La matriz M es: \n",
            " [[ 20.  32.  44.  56.  68.  80.  92. 104. 116.]\n",
            " [ 28.  40.  52.  64.  76.  88. 100. 112. 124.]\n",
            " [ 36.  48.  60.  72.  84.  96. 108. 120. 132.]\n",
            " [ 44.  56.  68.  80.  92. 104. 116. 128. 140.]\n",
            " [ 52.  64.  76.  88. 100. 112. 124. 136. 148.]\n",
            " [ 60.  72.  84.  96. 108. 120. 132. 144. 156.]\n",
            " [ 68.  80.  92. 104. 116. 128. 140. 152. 164.]\n",
            " [ 76.  88. 100. 112. 124. 136. 148. 160. 172.]]\n"
          ]
        }
      ]
    },
    {
      "cell_type": "markdown",
      "source": [
        "# Problema 6"
      ],
      "metadata": {
        "id": "GzG5888JV5Yc"
      }
    },
    {
      "cell_type": "markdown",
      "source": [
        "Genere dos matrices:\n",
        "\n",
        "*   Una matriz $A$ de orden $5 \\times 7$, con $a_{ij} = i \\cdot j.$\n",
        "*   Una matriz $B$ de orden $7 \\times 5$, con $b_{ij} = 15i - 2j.$\n",
        "\n",
        "y calcule $C = A^{T} + \\dfrac{1}{2}B$.\n",
        "\n"
      ],
      "metadata": {
        "id": "dHbVKHuLV71S"
      }
    },
    {
      "cell_type": "markdown",
      "source": [
        "# Problema 7"
      ],
      "metadata": {
        "id": "HZJfudDGXjic"
      }
    },
    {
      "cell_type": "markdown",
      "source": [
        "Una red de sensores recoge datos de temperatura ($°C$), humedad (porcentaje) y presión (hPa) en cinco días distintos (de lunes a viernes). Los datos medidos se muestran en la matriz $D$:\n",
        "\n",
        "<br>\n",
        "\n",
        "\\begin{equation*}\n",
        "\\begin{matrix}\n",
        "& \\begin{matrix}\n",
        " & Lu  \\ \\ &Ma \\ \\ &Mi \\ \\ & Ju \\ \\ &Vi\n",
        "\\end{matrix} \\\\\n",
        "&D = \\begin{pmatrix}\n",
        "20    &  28    &  22    &  26     &  24   \\\\\n",
        "52    &  57    &  56    &  54     &  58   \\\\\n",
        "1.066 &  1.068 &  1.066 &  1.064  &  1.068 \\\\\n",
        "\\end{pmatrix} & \\ \\begin{matrix}\n",
        "Cº\\\\\n",
        "\\% \\\\\n",
        "hPa\n",
        "\\end{matrix}\\\\\n",
        "\\end{matrix}\n",
        "\\end{equation*}\n",
        "\n",
        "<br>\n",
        "\n",
        "Se sabe que por un error de calibración de los sensores, las medidas registradas deberían ser un $5\\%$ menores que las registradas.\n",
        "\n",
        "1. Calcule en una matriz $S$ los valores correctos de temperatura, humedad y presión. Utilice *Python* para calcular.\n",
        "2. Obtenga la matriz $S^{T}$.\n",
        "3. Interprete los elementos $s_{24}$ y $s_{31}^{T}$.\n"
      ],
      "metadata": {
        "id": "Z-C9zGeKYQ11"
      }
    },
    {
      "cell_type": "markdown",
      "source": [
        "# Problema 8"
      ],
      "metadata": {
        "id": "9py029xQlSq6"
      }
    },
    {
      "cell_type": "markdown",
      "source": [
        "Una empresa tecnológica vende software y hardware en tres productos: $P_{1}$, $P_{2}$ y $P_{3}$, en cuatro zonas de la capital: norte, sur, este y oeste. Las ventas del mes, en millones de pesos, están registradas en las matrices $S$ y $H$, para software y hardware respectivamente.\n",
        "\n",
        "<br>\n",
        "\n",
        "\\begin{split}\n",
        "S = \\begin{pmatrix}\n",
        " 260 &  480 &  180  &  90  \\\\\n",
        " 320 &  440 &  250  &  280 \\\\\n",
        " 240 &  360 &  380  &  250  \\\\\n",
        "\\end{pmatrix} \\text{ } H = \\begin{pmatrix}\n",
        " 360 &  250 &  300  &  250  \\\\\n",
        " 450 &  500 &  350  &  380 \\\\\n",
        " 290 &  300 &  460  &  400  \\\\\n",
        "\\end{pmatrix}\n",
        "\\end{split}\n",
        "\n",
        "<br>\n",
        "\n",
        "1. Calcule en la matriz $T$, del total de ventas de la empresa tecnológica.\n",
        "2. Un trabajador indica que este mes, la sucursal de la zona sur recaudó más por la venta hardware que software, ¿es correcta su afirmación?\n",
        "3. Debido al black friday se espera que el siguiente mes, las ventas de software aumenten un $7\\%$ y las de hardware aumenten un $3\\%$ respecto al mes actual. Encuentra en total de ventas esperadas para el siguiente mes y almacénalo en la matriz $M$. Utiliza *Python* para realizar los cálculos.\n",
        "4. Interpreta los elementos $t_{24}$ y $m_{31}$ en el contexto del problema.\n",
        "5. Calcula la matriz $M^{T}$ e interpreta el elemento $m_{41}^{T}$ en el contexto del problema.\n"
      ],
      "metadata": {
        "id": "icNvmShQmtrx"
      }
    }
  ]
}