{
  "cells": [
    {
      "cell_type": "markdown",
      "metadata": {
        "id": "view-in-github",
        "colab_type": "text"
      },
      "source": [
        "<a href=\"https://colab.research.google.com/github/SolidusStrange/Matematica-Aplicada/blob/main/CuestionarioResumen.ipynb\" target=\"_parent\"><img src=\"https://colab.research.google.com/assets/colab-badge.svg\" alt=\"Open In Colab\"/></a>"
      ]
    },
    {
      "cell_type": "code",
      "execution_count": 2,
      "id": "ac4c0a48",
      "metadata": {
        "id": "ac4c0a48"
      },
      "outputs": [],
      "source": [
        "import numpy as np\n",
        "from scipy.optimize import fsolve\n",
        "import matplotlib.pyplot as plt"
      ]
    },
    {
      "cell_type": "code",
      "execution_count": 3,
      "id": "29c2cb25",
      "metadata": {
        "colab": {
          "base_uri": "https://localhost:8080/"
        },
        "id": "29c2cb25",
        "outputId": "743d0e7c-33f5-48ce-b561-b9cc89480a15"
      },
      "outputs": [
        {
          "output_type": "stream",
          "name": "stdout",
          "text": [
            "0 y 7.8\n",
            "La gráfica muestra que la curva del automóvil está por encima de la de la moto desde el inicio hasta que se cortan en aproximadamente 7.8; después de ese punto la moto pasa a ser más rápida.\n"
          ]
        }
      ],
      "source": [
        "# PREGUNTA 1\n",
        "# \"Indique el rango de tiempo para el cual la velocidad del automóvil es mayor\n",
        "# que la velocidad de la moto.\"\n",
        "\n",
        "def s(x):\n",
        "    return -1.6*x**2 + 1.3*x + 141.3\n",
        "\n",
        "def r(x):\n",
        "    return 1.4*x**2 - 5.6*x + 12.6\n",
        "\n",
        "def inter(x):\n",
        "    return s(x) - r(x)\n",
        "\n",
        "x = np.linspace(0, 100, 2)\n",
        "\n",
        "solucion = fsolve(inter, x)\n",
        "\n",
        "print(f\"La gráfica muestra que la curva del automóvil está por encima de la de la moto desde el \\\n",
        "inicio hasta que se cortan en aproximadamente {solucion[1]:.1f}; después de ese punto la moto pasa a ser más rápida.\")"
      ]
    },
    {
      "cell_type": "code",
      "execution_count": 4,
      "id": "3cfadbab",
      "metadata": {
        "colab": {
          "base_uri": "https://localhost:8080/"
        },
        "id": "3cfadbab",
        "outputId": "c012ffc8-350b-4212-87d3-46c510d5d743"
      },
      "outputs": [
        {
          "output_type": "stream",
          "name": "stdout",
          "text": [
            "x representa número de campañas (no puede ser negativo) y la empresa se limita a un máximo de 15 campañas, por eso el dominio contextual es [0,15].\n"
          ]
        }
      ],
      "source": [
        "# PREGUNTA 2\n",
        "# \"¿Cuál es el dominio contextualizado de U(x) = 150x + 100 sabiendo que hay un máximo de 15 campañas?\"\n",
        "print(\"x representa número de campañas (no puede ser negativo) y la empresa se limita a un máximo de 15\\\n",
        " campañas, por eso el dominio contextual es [0,15].\")"
      ]
    },
    {
      "cell_type": "code",
      "execution_count": 7,
      "id": "0716fc3a",
      "metadata": {
        "colab": {
          "base_uri": "https://localhost:8080/"
        },
        "id": "0716fc3a",
        "outputId": "4b019c7f-6fc9-4943-f019-1bd62315aa2f"
      },
      "outputs": [
        {
          "output_type": "stream",
          "name": "stdout",
          "text": [
            "Igualando la función a 551 y resolviendo la ecuación exponencial se obtiene un valor cercano a 8.0 meses (es el t que hace que D(t)=551).\n",
            "302.5\n"
          ]
        }
      ],
      "source": [
        "# PREGUNTA 3\n",
        "#\"¿En cuántos meses el servidor alcanzará 551 TB si D(t)=50·e^{0,3t}?\"\n",
        "def ecuacion(t):\n",
        "    return 50 * np.exp(t*0.3) - 551\n",
        "\n",
        "t = np.linspace(0, 100, 1)\n",
        "solucion = fsolve(ecuacion, t)\n",
        "\n",
        "print(f\"Igualando la función a 551 y resolviendo la ecuación exponencial se obtiene un valor cercano\\\n",
        " a {(round(solucion[0],0))} meses (es el t que hace que D(t)=551).\")"
      ]
    },
    {
      "cell_type": "code",
      "source": [
        "# PREGUNTA 4\n",
        "# \"¿Cuántos terabytes habrá almacenados después de 6 meses?\"\n",
        "def D(t):\n",
        "    return 50 * np.exp(t*0.3)\n",
        "\n",
        "print(round(D(6),1))\n",
        "\n",
        "print(f\"Evaluando D(6)=50·e^0,3·6 da un valor cercano a {(round(D(6),1))}, por eso ese es el almacenamiento \\\n",
        "esperado a los 6 meses.\")\n"
      ],
      "metadata": {
        "colab": {
          "base_uri": "https://localhost:8080/"
        },
        "id": "SprLJAI-eTw-",
        "outputId": "2ea576d7-d259-48d5-c636-936745931236"
      },
      "id": "SprLJAI-eTw-",
      "execution_count": 9,
      "outputs": [
        {
          "output_type": "stream",
          "name": "stdout",
          "text": [
            "302.5\n",
            "Evaluando D(6)=50·e^0,3·6 da un valor cercano a 302.5, por eso ese es el almacenamiento esperado a los 6 meses.\n"
          ]
        }
      ]
    },
    {
      "cell_type": "code",
      "source": [
        "# 5\n",
        "# \"Interprete las coordenadas del punto A del gráfico de temperatura vs tiempo.\"\n",
        "print(\"El punto A está en la intersección con el eje tiempo en t=0 y su altura en y corresponde a 6 °C.\")"
      ],
      "metadata": {
        "colab": {
          "base_uri": "https://localhost:8080/"
        },
        "id": "AVdIust5e-KO",
        "outputId": "1ee3dba4-f5e2-42b0-81bf-cb3faaa016a2"
      },
      "id": "AVdIust5e-KO",
      "execution_count": 10,
      "outputs": [
        {
          "output_type": "stream",
          "name": "stdout",
          "text": [
            "El punto A está en la intersección con el eje tiempo en t=0 y su altura en y corresponde a 6 °C.\n"
          ]
        }
      ]
    },
    {
      "cell_type": "code",
      "source": [
        "# 6\n",
        "# \"Identifique variables de U(t): utilidades mensuales.\"\n",
        "print(\"Variable independiente: Tiempo transcurrido (meses)\")\n",
        "print(\"Variable dependiente: Utilidades mensuales (miles de pesos)\")\n"
      ],
      "metadata": {
        "colab": {
          "base_uri": "https://localhost:8080/"
        },
        "id": "u5CPPrtafGsp",
        "outputId": "8b001fb3-555a-4996-9bdc-431bcfbcdaa9"
      },
      "id": "u5CPPrtafGsp",
      "execution_count": 11,
      "outputs": [
        {
          "output_type": "stream",
          "name": "stdout",
          "text": [
            "Variable independiente: Tiempo transcurrido (meses)\n",
            "Variable dependiente: Utilidades mensuales (miles de pesos)\n"
          ]
        }
      ]
    },
    {
      "cell_type": "code",
      "execution_count": 12,
      "id": "c1a9666f",
      "metadata": {
        "colab": {
          "base_uri": "https://localhost:8080/"
        },
        "id": "c1a9666f",
        "outputId": "b99ad359-0136-4717-fe16-10f5b8bc9409"
      },
      "outputs": [
        {
          "output_type": "stream",
          "name": "stdout",
          "text": [
            "Sustituyendo x=10 en la función se obtiene 650, por eso ese es el uso de memoria con 10 objetos.\n"
          ]
        }
      ],
      "source": [
        "# PREGUNTA 7\n",
        "# \"¿Cuál es el uso de memoria M(x)=x³−4x²+5x cuando x=10?\"\n",
        "# x = memoria utilizada en megabyte\n",
        "# y = numero de objetos en memoria\n",
        "\n",
        "# 7\n",
        "def M(x):\n",
        "    return x**3 - (4*x**2) + (5*x)\n",
        "\n",
        "solucion = M(10)\n",
        "print(f\"Sustituyendo x=10 en la función se obtiene {solucion}, por eso ese es el uso de memoria con 10 objetos.\")"
      ]
    },
    {
      "cell_type": "code",
      "execution_count": 14,
      "id": "fbe37439",
      "metadata": {
        "colab": {
          "base_uri": "https://localhost:8080/"
        },
        "id": "fbe37439",
        "outputId": "e855ca7f-5bf3-4671-b61a-f09696961f5e"
      },
      "outputs": [
        {
          "output_type": "stream",
          "name": "stdout",
          "text": [
            "Al despejar n de la ecuación lineal que iguala el costo conocido se obtiene n = 26.0.\n"
          ]
        }
      ],
      "source": [
        "# PREGUNTA 8\n",
        "# \"Si C(n)=50n+200 y el costo es 1500 USD, ¿cuántos TB se procesaron?\"\n",
        "def ecuacion(n):\n",
        "    return 50*n + 200 - 1500\n",
        "\n",
        "tp = np.linspace(0, 2000, 1)\n",
        "solucion = fsolve(ecuacion, tp)\n",
        "\n",
        "print(f\"Al despejar n de la ecuación lineal que iguala el costo conocido se obtiene n = {solucion[0]}.\")"
      ]
    },
    {
      "cell_type": "code",
      "source": [
        "# PREGUNTA 9\n",
        "# \"¿Cuál es el costo si se procesan 20 TB con C(n)=50n+200?\"\n",
        "def C(n):\n",
        "    return 50*n + 200\n",
        "\n",
        "print(f\"Sustituyendo n=20 en la función lineal da {C(20)} como costo mensual.\")"
      ],
      "metadata": {
        "colab": {
          "base_uri": "https://localhost:8080/"
        },
        "id": "h2O-vYnPfhVH",
        "outputId": "166f7077-78dc-43ee-ec31-dc892c66d1c2"
      },
      "id": "h2O-vYnPfhVH",
      "execution_count": 16,
      "outputs": [
        {
          "output_type": "stream",
          "name": "stdout",
          "text": [
            "Sustituyendo n=20 en la función lineal da 1200 como costo mensual.\n"
          ]
        }
      ]
    },
    {
      "cell_type": "code",
      "source": [
        "# PREGUNTA 10\n",
        "# \"¿Qué gráfico representa f(x)=1−2x?\"\n",
        "print(\"f(x) es una recta con ordenada al origen 1 y pendiente −2 (declinante fuerte), la imagen \\\n",
        "que muestra ese intercepto y pendiente negativa.\")"
      ],
      "metadata": {
        "colab": {
          "base_uri": "https://localhost:8080/"
        },
        "id": "vRh7AVmTg0t4",
        "outputId": "667a867b-17cb-48c6-bd7a-65a39fe48b22"
      },
      "id": "vRh7AVmTg0t4",
      "execution_count": 19,
      "outputs": [
        {
          "output_type": "stream",
          "name": "stdout",
          "text": [
            "f(x) es una recta con ordenada al origen 1 y pendiente −2 (declinante fuerte), la imagen que muestra ese intercepto y pendiente negativa.\n"
          ]
        }
      ]
    },
    {
      "cell_type": "code",
      "execution_count": 22,
      "id": "0553dc6f",
      "metadata": {
        "colab": {
          "base_uri": "https://localhost:8080/"
        },
        "id": "0553dc6f",
        "outputId": "6f71ecee-3dd2-4b04-b71f-624cc803fe5d"
      },
      "outputs": [
        {
          "output_type": "stream",
          "name": "stdout",
          "text": [
            "15.0\n",
            "Para n= 15.0 la función da exactamente 500 GB; cualquier n mayor produce un tamaño mayor a 500, así que 15 es el máximo permitido.\n"
          ]
        }
      ],
      "source": [
        "# PREGUNTA 11\n",
        "# \"¿Cuántos registros se pueden almacenar sin que el tamaño supere 500 GB en S(n)=2n²+3n+5?\"\n",
        "def ecuacion(n):\n",
        "    return 2*n**2 + 3*n + 5 - 500\n",
        "\n",
        "tn = np.linspace(0, 500, 2)\n",
        "solucion = fsolve(ecuacion, tn)\n",
        "\n",
        "print(f\"Para n= {(round(solucion[0],0))} la función da exactamente 500 GB; cualquier n mayor produce un tamaño mayor a 500, así \\\n",
        "que 15 es el máximo permitido.\")\n"
      ]
    },
    {
      "cell_type": "code",
      "source": [
        "# PREGUNTA 12\n",
        "# \"Si la base tiene 50 registros, ¿cuál es el tamaño S(50)?\"\n",
        "def S(n):\n",
        "    return 2*n**2 + 3*n + 5\n",
        "\n",
        "print(f\"Sustituyendo n=50 en la fórmula S(n) se obtiene {S(50)}, que es el tamaño de almacenamiento para\\\n",
        " 50 registros.\")"
      ],
      "metadata": {
        "colab": {
          "base_uri": "https://localhost:8080/"
        },
        "id": "dnIpHExfgxcp",
        "outputId": "ea9a9460-67bb-4b30-dd52-0ca8e563601f"
      },
      "id": "dnIpHExfgxcp",
      "execution_count": 23,
      "outputs": [
        {
          "output_type": "stream",
          "name": "stdout",
          "text": [
            "Sustituyendo n=50 en la fórmula S(n) se obtiene 5155, que es el tamaño de almacenamiento para 50 registros.\n"
          ]
        }
      ]
    },
    {
      "cell_type": "code",
      "source": [
        "# PREGUNTA 13\n",
        "# \"Sobre P(t)=4t+50: seleccione las afirmaciones verdaderas.\"\n",
        "print(\"Verdadero: Los valores de P aumentan al aumentar t.\")\n",
        "print(\"Verdadero: Cada vez que t aumenta 1 hora, la productividad aumenta 4 unidades.\")"
      ],
      "metadata": {
        "colab": {
          "base_uri": "https://localhost:8080/"
        },
        "id": "63hIv0ELhuXw",
        "outputId": "ac3fbeba-d434-4643-b4ba-eabc16bdae38"
      },
      "id": "63hIv0ELhuXw",
      "execution_count": 27,
      "outputs": [
        {
          "output_type": "stream",
          "name": "stdout",
          "text": [
            "Verdadero: Los valores de P aumentan al aumentar t.\n",
            "Verdadero: Cada vez que t aumenta 1 hora, la productividad aumenta 4 unidades.\n"
          ]
        }
      ]
    },
    {
      "cell_type": "code",
      "execution_count": null,
      "id": "120fdc01",
      "metadata": {
        "id": "120fdc01",
        "outputId": "f5328327-e750-4388-e800-5b3ac88641e2"
      },
      "outputs": [
        {
          "name": "stdout",
          "output_type": "stream",
          "text": [
            "f(x) = 6.00t + 20.00\n"
          ]
        }
      ],
      "source": [
        "# PREGUNTA 14\n",
        "# \"Determinar la función P(t) dada la tabla (t,P): (5,50),(10,80),(15,110),(20,140).\"\n",
        "x = np.array([5, 10, 15, 20])\n",
        "y = np.array([50, 80, 110, 140])\n",
        "\n",
        "a , b = np.polyfit(x, y, 1)\n",
        "\n",
        "print(f\"f(x) = {a:.2f}t + {b:.2f}\")\n",
        "print(f\"La variación de P por cada 5 horas es 30 → pendiente {a:.2f}, y al calcular la ordenada al origen con uno de los puntos se obtiene {b:.2f}.\")"
      ]
    },
    {
      "cell_type": "code",
      "execution_count": 26,
      "id": "13d40f46",
      "metadata": {
        "colab": {
          "base_uri": "https://localhost:8080/"
        },
        "id": "13d40f46",
        "outputId": "eda56f6f-5568-4231-a03f-138dae56c064"
      },
      "outputs": [
        {
          "output_type": "stream",
          "name": "stdout",
          "text": [
            "Igualando ingresos y costos aparece una ecuación cuadrática con dos raíces; la positiva válida es x=10.0 (la otra raíz es negativa y no tiene sentido en este contexto). Como x está en miles, 10.0 → 10000.0 suscriptores.\n"
          ]
        }
      ],
      "source": [
        "# PREGUNTA 15\n",
        "# \"Encontrar x tal que I(x)=C(x) con I(x)=50x+0,5x² y C(x)=10x+450 (x en miles de suscriptores).\"\n",
        "def I(x):\n",
        "    return 50*x + 0.5*x**2\n",
        "\n",
        "def C(x):\n",
        "    return 10*x + 450\n",
        "\n",
        "def inter(x):\n",
        "    return I(x) - C(x)\n",
        "\n",
        "ts = np.linspace(0, 1000, 1)\n",
        "solucion = np.around(fsolve(inter, x),decimals=1)\n",
        "print(f\"Igualando ingresos y costos aparece una ecuación cuadrática con dos raíces; la positiva válida es x={(solucion[0])} (la otra raíz es negativa y no tiene \\\n",
        "sentido en este contexto). Como x está en miles, {(solucion[0])} → {(solucion[0])*1000} suscriptores.\")"
      ]
    }
  ],
  "metadata": {
    "kernelspec": {
      "display_name": "Python 3",
      "language": "python",
      "name": "python3"
    },
    "language_info": {
      "codemirror_mode": {
        "name": "ipython",
        "version": 3
      },
      "file_extension": ".py",
      "mimetype": "text/x-python",
      "name": "python",
      "nbconvert_exporter": "python",
      "pygments_lexer": "ipython3",
      "version": "3.13.3"
    },
    "colab": {
      "provenance": [],
      "include_colab_link": true
    }
  },
  "nbformat": 4,
  "nbformat_minor": 5
}