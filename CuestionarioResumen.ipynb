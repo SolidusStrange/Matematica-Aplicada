{
 "cells": [
  {
   "cell_type": "code",
   "execution_count": 2,
   "id": "ac4c0a48",
   "metadata": {},
   "outputs": [],
   "source": [
    "import numpy as np\n",
    "from scipy.optimize import fsolve\n",
    "import matplotlib.pyplot as plt"
   ]
  },
  {
   "cell_type": "code",
   "execution_count": 6,
   "id": "29c2cb25",
   "metadata": {},
   "outputs": [
    {
     "name": "stdout",
     "output_type": "stream",
     "text": [
      "0 y 7.8\n"
     ]
    }
   ],
   "source": [
    "# PREGUNTA 1\n",
    "\n",
    "def s(x):\n",
    "    return -1.6*x**2 + 1.3*x + 141.3\n",
    "\n",
    "def r(x):\n",
    "    return 1.4*x**2 - 5.6*x + 12.6\n",
    "\n",
    "def inter(x):\n",
    "    return s(x) - r(x)\n",
    "\n",
    "x = np.linspace(0, 100, 2)\n",
    "\n",
    "solucion = fsolve(inter, x)\n",
    "print(f\"0 y {solucion[1]:.1f}\")"
   ]
  },
  {
   "cell_type": "code",
   "execution_count": null,
   "id": "3cfadbab",
   "metadata": {},
   "outputs": [],
   "source": [
    "# PREGUNTA 2\n",
    "# Nos dan el máximo de campañas que es (x) e (y) corresponde al número de usuarios activos diarios\n",
    "# Por lo tanto, el dominio contextualizado si el max es 15 campañas, es [0, 15] "
   ]
  },
  {
   "cell_type": "code",
   "execution_count": 12,
   "id": "0716fc3a",
   "metadata": {},
   "outputs": [
    {
     "name": "stdout",
     "output_type": "stream",
     "text": [
      "8.0\n",
      "302.5\n"
     ]
    }
   ],
   "source": [
    "# PREGUNTA 3 y 4\n",
    "# 3\n",
    "def ecuacion(t):\n",
    "    return 50 * np.exp(t*0.3) - 551\n",
    "\n",
    "t = np.linspace(0, 100, 1)\n",
    "solucion = fsolve(ecuacion, t)\n",
    "print(round(solucion[0],0))\n",
    "\n",
    "# 4\n",
    "def D(t):\n",
    "    return 50 * np.exp(t*0.3)\n",
    "\n",
    "print(round(D(6),1))\n",
    "\n"
   ]
  },
  {
   "cell_type": "code",
   "execution_count": null,
   "id": "c1a9666f",
   "metadata": {},
   "outputs": [
    {
     "name": "stdout",
     "output_type": "stream",
     "text": [
      "650\n"
     ]
    }
   ],
   "source": [
    "# PREGUNTA 7 \n",
    "# x = memoria utilizada en megabyte\n",
    "# y = numero de objetos en memoria\n",
    "\n",
    "# 7\n",
    "def M(x):\n",
    "    return x**3 - (4*x**2) + (5*x)\n",
    "\n",
    "solucion = M(10)\n",
    "print(solucion)"
   ]
  },
  {
   "cell_type": "code",
   "execution_count": 35,
   "id": "fbe37439",
   "metadata": {},
   "outputs": [
    {
     "name": "stdout",
     "output_type": "stream",
     "text": [
      "26.0\n",
      "1200\n"
     ]
    }
   ],
   "source": [
    "# PREGUNTA 8\n",
    "def ecuacion(n):\n",
    "    return 50*n + 200 - 1500\n",
    "\n",
    "tp = np.linspace(0, 2000, 1)\n",
    "\n",
    "solucion = fsolve(ecuacion, tp)\n",
    "print(solucion[0])\n",
    "\n",
    "# PREGUNTA 9\n",
    "def C(n):\n",
    "    return 50*n + 200\n",
    "\n",
    "print(C(20))\n",
    "\n",
    "\n",
    "\n"
   ]
  },
  {
   "cell_type": "code",
   "execution_count": null,
   "id": "0553dc6f",
   "metadata": {},
   "outputs": [
    {
     "name": "stdout",
     "output_type": "stream",
     "text": [
      "15.0\n",
      "5155\n"
     ]
    }
   ],
   "source": [
    "# PREGUNTA 11\n",
    "\n",
    "def ecuacion(n):\n",
    "    return 2*n**2 + 3*n + 5 - 500\n",
    "\n",
    "tn = np.linspace(0, 500, 2)\n",
    "solucion = fsolve(ecuacion, tn)\n",
    "print(round(solucion[0],0))\n",
    "\n",
    "# PREGUNTA 12\n",
    "\n",
    "def S(n):\n",
    "    return 2*n**2 + 3*n + 5\n",
    "\n",
    "print(S(50))\n"
   ]
  },
  {
   "cell_type": "code",
   "execution_count": 41,
   "id": "120fdc01",
   "metadata": {},
   "outputs": [
    {
     "name": "stdout",
     "output_type": "stream",
     "text": [
      "f(x) = 6.00t + 20.00\n"
     ]
    }
   ],
   "source": [
    "# PREGUNTA 14\n",
    "x = np.array([5, 10, 15, 20])\n",
    "y = np.array([50, 80, 110, 140])\n",
    "\n",
    "a , b = np.polyfit(x, y, 1)\n",
    "\n",
    "print(f\"f(x) = {a:.2f}t + {b:.2f}\")\n"
   ]
  },
  {
   "cell_type": "code",
   "execution_count": 46,
   "id": "13d40f46",
   "metadata": {},
   "outputs": [
    {
     "name": "stdout",
     "output_type": "stream",
     "text": [
      "10000.0\n"
     ]
    }
   ],
   "source": [
    "# PREGUNTA 15\n",
    "def I(x):\n",
    "    return 50*x + 0.5*x**2\n",
    "\n",
    "def C(x):\n",
    "    return 10*x + 450\n",
    "\n",
    "def inter(x):\n",
    "    return I(x) - C(x)\n",
    "\n",
    "ts = np.linspace(0, 1000, 1)\n",
    "solucion = np.around(fsolve(inter, x),decimals=1)\n",
    "print(solucion[0]*1000)\n",
    "\n",
    "\n"
   ]
  }
 ],
 "metadata": {
  "kernelspec": {
   "display_name": "Python 3",
   "language": "python",
   "name": "python3"
  },
  "language_info": {
   "codemirror_mode": {
    "name": "ipython",
    "version": 3
   },
   "file_extension": ".py",
   "mimetype": "text/x-python",
   "name": "python",
   "nbconvert_exporter": "python",
   "pygments_lexer": "ipython3",
   "version": "3.13.3"
  }
 },
 "nbformat": 4,
 "nbformat_minor": 5
}
